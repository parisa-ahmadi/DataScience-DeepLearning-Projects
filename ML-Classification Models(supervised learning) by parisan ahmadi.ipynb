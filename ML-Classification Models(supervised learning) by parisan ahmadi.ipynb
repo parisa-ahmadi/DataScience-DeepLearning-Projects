{
 "cells": [
  {
   "cell_type": "code",
   "execution_count": 1,
   "id": "d9acb85b",
   "metadata": {},
   "outputs": [],
   "source": [
    "import numpy as np\n",
    "import pandas as pd\n",
    "import seaborn as sb\n",
    "import matplotlib.pyplot as plt\n",
    "from sklearn.preprocessing import MinMaxScaler\n",
    "from sklearn import preprocessing\n",
    "from sklearn.model_selection import train_test_split\n",
    "from sklearn.linear_model import LinearRegression\n",
    "from sklearn.linear_model import LogisticRegression\n",
    "from sklearn.neighbors import KNeighborsClassifier\n",
    "from sklearn.neighbors import KNeighborsRegressor\n",
    "from sklearn.tree import DecisionTreeClassifier\n",
    "from sklearn.tree import DecisionTreeRegressor\n",
    "from sklearn.ensemble import RandomForestClassifier\n",
    "from sklearn.ensemble import RandomForestRegressor\n",
    "from sklearn.svm import SVC\n",
    "from sklearn.metrics import confusion_matrix as cm\n",
    "from sklearn.metrics import accuracy_score\n",
    "from sklearn.metrics import classification_report\n",
    "from sklearn.model_selection import cross_val_score\n",
    "from sklearn.feature_selection import RFE\n",
    "import statsmodels.api as sm\n",
    "from sklearn.metrics import cohen_kappa_score\n",
    "from sklearn.metrics import matthews_corrcoef\n",
    "from sklearn import metrics"
   ]
  },
  {
   "cell_type": "code",
   "execution_count": 2,
   "id": "f5e45377",
   "metadata": {},
   "outputs": [
    {
     "data": {
      "text/html": [
       "<div>\n",
       "<style scoped>\n",
       "    .dataframe tbody tr th:only-of-type {\n",
       "        vertical-align: middle;\n",
       "    }\n",
       "\n",
       "    .dataframe tbody tr th {\n",
       "        vertical-align: top;\n",
       "    }\n",
       "\n",
       "    .dataframe thead th {\n",
       "        text-align: right;\n",
       "    }\n",
       "</style>\n",
       "<table border=\"1\" class=\"dataframe\">\n",
       "  <thead>\n",
       "    <tr style=\"text-align: right;\">\n",
       "      <th></th>\n",
       "      <th>S</th>\n",
       "      <th>L</th>\n",
       "      <th>D</th>\n",
       "      <th>H</th>\n",
       "      <th>WW</th>\n",
       "      <th>SW</th>\n",
       "      <th>VW</th>\n",
       "      <th>SlW</th>\n",
       "      <th>Response1</th>\n",
       "    </tr>\n",
       "  </thead>\n",
       "  <tbody>\n",
       "    <tr>\n",
       "      <th>0</th>\n",
       "      <td>I</td>\n",
       "      <td>0.455</td>\n",
       "      <td>0.375</td>\n",
       "      <td>0.125</td>\n",
       "      <td>0.5330</td>\n",
       "      <td>0.2330</td>\n",
       "      <td>0.1060</td>\n",
       "      <td>0.185</td>\n",
       "      <td>8</td>\n",
       "    </tr>\n",
       "    <tr>\n",
       "      <th>1</th>\n",
       "      <td>M</td>\n",
       "      <td>0.630</td>\n",
       "      <td>0.490</td>\n",
       "      <td>0.155</td>\n",
       "      <td>1.2525</td>\n",
       "      <td>0.6300</td>\n",
       "      <td>0.2460</td>\n",
       "      <td>0.289</td>\n",
       "      <td>9</td>\n",
       "    </tr>\n",
       "    <tr>\n",
       "      <th>2</th>\n",
       "      <td>M</td>\n",
       "      <td>0.695</td>\n",
       "      <td>0.550</td>\n",
       "      <td>0.220</td>\n",
       "      <td>1.5515</td>\n",
       "      <td>0.5660</td>\n",
       "      <td>0.3835</td>\n",
       "      <td>0.445</td>\n",
       "      <td>13</td>\n",
       "    </tr>\n",
       "    <tr>\n",
       "      <th>3</th>\n",
       "      <td>I</td>\n",
       "      <td>0.430</td>\n",
       "      <td>0.320</td>\n",
       "      <td>0.100</td>\n",
       "      <td>0.3855</td>\n",
       "      <td>0.1920</td>\n",
       "      <td>0.0745</td>\n",
       "      <td>0.100</td>\n",
       "      <td>7</td>\n",
       "    </tr>\n",
       "    <tr>\n",
       "      <th>4</th>\n",
       "      <td>I</td>\n",
       "      <td>0.420</td>\n",
       "      <td>0.320</td>\n",
       "      <td>0.110</td>\n",
       "      <td>0.3625</td>\n",
       "      <td>0.1740</td>\n",
       "      <td>0.0635</td>\n",
       "      <td>0.105</td>\n",
       "      <td>7</td>\n",
       "    </tr>\n",
       "    <tr>\n",
       "      <th>...</th>\n",
       "      <td>...</td>\n",
       "      <td>...</td>\n",
       "      <td>...</td>\n",
       "      <td>...</td>\n",
       "      <td>...</td>\n",
       "      <td>...</td>\n",
       "      <td>...</td>\n",
       "      <td>...</td>\n",
       "      <td>...</td>\n",
       "    </tr>\n",
       "    <tr>\n",
       "      <th>2995</th>\n",
       "      <td>F</td>\n",
       "      <td>0.575</td>\n",
       "      <td>0.485</td>\n",
       "      <td>0.165</td>\n",
       "      <td>1.0405</td>\n",
       "      <td>0.4190</td>\n",
       "      <td>0.2640</td>\n",
       "      <td>0.300</td>\n",
       "      <td>14</td>\n",
       "    </tr>\n",
       "    <tr>\n",
       "      <th>2996</th>\n",
       "      <td>M</td>\n",
       "      <td>0.515</td>\n",
       "      <td>0.370</td>\n",
       "      <td>0.115</td>\n",
       "      <td>0.6145</td>\n",
       "      <td>0.3415</td>\n",
       "      <td>0.1550</td>\n",
       "      <td>0.146</td>\n",
       "      <td>9</td>\n",
       "    </tr>\n",
       "    <tr>\n",
       "      <th>2997</th>\n",
       "      <td>M</td>\n",
       "      <td>0.590</td>\n",
       "      <td>0.475</td>\n",
       "      <td>0.160</td>\n",
       "      <td>0.9455</td>\n",
       "      <td>0.3815</td>\n",
       "      <td>0.1840</td>\n",
       "      <td>0.270</td>\n",
       "      <td>19</td>\n",
       "    </tr>\n",
       "    <tr>\n",
       "      <th>2998</th>\n",
       "      <td>F</td>\n",
       "      <td>0.605</td>\n",
       "      <td>0.495</td>\n",
       "      <td>0.170</td>\n",
       "      <td>1.2385</td>\n",
       "      <td>0.5280</td>\n",
       "      <td>0.2465</td>\n",
       "      <td>0.390</td>\n",
       "      <td>14</td>\n",
       "    </tr>\n",
       "    <tr>\n",
       "      <th>2999</th>\n",
       "      <td>M</td>\n",
       "      <td>0.660</td>\n",
       "      <td>0.500</td>\n",
       "      <td>0.165</td>\n",
       "      <td>1.3195</td>\n",
       "      <td>0.6670</td>\n",
       "      <td>0.2690</td>\n",
       "      <td>0.341</td>\n",
       "      <td>9</td>\n",
       "    </tr>\n",
       "  </tbody>\n",
       "</table>\n",
       "<p>3000 rows × 9 columns</p>\n",
       "</div>"
      ],
      "text/plain": [
       "      S      L      D      H      WW      SW      VW    SlW  Response1\n",
       "0     I  0.455  0.375  0.125  0.5330  0.2330  0.1060  0.185          8\n",
       "1     M  0.630  0.490  0.155  1.2525  0.6300  0.2460  0.289          9\n",
       "2     M  0.695  0.550  0.220  1.5515  0.5660  0.3835  0.445         13\n",
       "3     I  0.430  0.320  0.100  0.3855  0.1920  0.0745  0.100          7\n",
       "4     I  0.420  0.320  0.110  0.3625  0.1740  0.0635  0.105          7\n",
       "...  ..    ...    ...    ...     ...     ...     ...    ...        ...\n",
       "2995  F  0.575  0.485  0.165  1.0405  0.4190  0.2640  0.300         14\n",
       "2996  M  0.515  0.370  0.115  0.6145  0.3415  0.1550  0.146          9\n",
       "2997  M  0.590  0.475  0.160  0.9455  0.3815  0.1840  0.270         19\n",
       "2998  F  0.605  0.495  0.170  1.2385  0.5280  0.2465  0.390         14\n",
       "2999  M  0.660  0.500  0.165  1.3195  0.6670  0.2690  0.341          9\n",
       "\n",
       "[3000 rows x 9 columns]"
      ]
     },
     "execution_count": 2,
     "metadata": {},
     "output_type": "execute_result"
    }
   ],
   "source": [
    "data=pd.read_csv(\"Data_Complete.csv\")\n",
    "data"
   ]
  },
  {
   "cell_type": "code",
   "execution_count": 3,
   "id": "5976f750",
   "metadata": {},
   "outputs": [
    {
     "data": {
      "text/html": [
       "<div>\n",
       "<style scoped>\n",
       "    .dataframe tbody tr th:only-of-type {\n",
       "        vertical-align: middle;\n",
       "    }\n",
       "\n",
       "    .dataframe tbody tr th {\n",
       "        vertical-align: top;\n",
       "    }\n",
       "\n",
       "    .dataframe thead th {\n",
       "        text-align: right;\n",
       "    }\n",
       "</style>\n",
       "<table border=\"1\" class=\"dataframe\">\n",
       "  <thead>\n",
       "    <tr style=\"text-align: right;\">\n",
       "      <th></th>\n",
       "      <th>S</th>\n",
       "      <th>L</th>\n",
       "      <th>D</th>\n",
       "      <th>H</th>\n",
       "      <th>WW</th>\n",
       "      <th>SW</th>\n",
       "      <th>VW</th>\n",
       "      <th>SlW</th>\n",
       "      <th>Response1</th>\n",
       "    </tr>\n",
       "  </thead>\n",
       "  <tbody>\n",
       "    <tr>\n",
       "      <th>0</th>\n",
       "      <td>I</td>\n",
       "      <td>0.455</td>\n",
       "      <td>0.375</td>\n",
       "      <td>0.125</td>\n",
       "      <td>0.5330</td>\n",
       "      <td>0.2330</td>\n",
       "      <td>0.1060</td>\n",
       "      <td>0.185</td>\n",
       "      <td>8</td>\n",
       "    </tr>\n",
       "    <tr>\n",
       "      <th>1</th>\n",
       "      <td>M</td>\n",
       "      <td>0.630</td>\n",
       "      <td>0.490</td>\n",
       "      <td>0.155</td>\n",
       "      <td>1.2525</td>\n",
       "      <td>0.6300</td>\n",
       "      <td>0.2460</td>\n",
       "      <td>0.289</td>\n",
       "      <td>9</td>\n",
       "    </tr>\n",
       "    <tr>\n",
       "      <th>2</th>\n",
       "      <td>M</td>\n",
       "      <td>0.695</td>\n",
       "      <td>0.550</td>\n",
       "      <td>0.220</td>\n",
       "      <td>1.5515</td>\n",
       "      <td>0.5660</td>\n",
       "      <td>0.3835</td>\n",
       "      <td>0.445</td>\n",
       "      <td>13</td>\n",
       "    </tr>\n",
       "    <tr>\n",
       "      <th>3</th>\n",
       "      <td>I</td>\n",
       "      <td>0.430</td>\n",
       "      <td>0.320</td>\n",
       "      <td>0.100</td>\n",
       "      <td>0.3855</td>\n",
       "      <td>0.1920</td>\n",
       "      <td>0.0745</td>\n",
       "      <td>0.100</td>\n",
       "      <td>7</td>\n",
       "    </tr>\n",
       "    <tr>\n",
       "      <th>4</th>\n",
       "      <td>I</td>\n",
       "      <td>0.420</td>\n",
       "      <td>0.320</td>\n",
       "      <td>0.110</td>\n",
       "      <td>0.3625</td>\n",
       "      <td>0.1740</td>\n",
       "      <td>0.0635</td>\n",
       "      <td>0.105</td>\n",
       "      <td>7</td>\n",
       "    </tr>\n",
       "    <tr>\n",
       "      <th>...</th>\n",
       "      <td>...</td>\n",
       "      <td>...</td>\n",
       "      <td>...</td>\n",
       "      <td>...</td>\n",
       "      <td>...</td>\n",
       "      <td>...</td>\n",
       "      <td>...</td>\n",
       "      <td>...</td>\n",
       "      <td>...</td>\n",
       "    </tr>\n",
       "    <tr>\n",
       "      <th>2995</th>\n",
       "      <td>F</td>\n",
       "      <td>0.575</td>\n",
       "      <td>0.485</td>\n",
       "      <td>0.165</td>\n",
       "      <td>1.0405</td>\n",
       "      <td>0.4190</td>\n",
       "      <td>0.2640</td>\n",
       "      <td>0.300</td>\n",
       "      <td>14</td>\n",
       "    </tr>\n",
       "    <tr>\n",
       "      <th>2996</th>\n",
       "      <td>M</td>\n",
       "      <td>0.515</td>\n",
       "      <td>0.370</td>\n",
       "      <td>0.115</td>\n",
       "      <td>0.6145</td>\n",
       "      <td>0.3415</td>\n",
       "      <td>0.1550</td>\n",
       "      <td>0.146</td>\n",
       "      <td>9</td>\n",
       "    </tr>\n",
       "    <tr>\n",
       "      <th>2997</th>\n",
       "      <td>M</td>\n",
       "      <td>0.590</td>\n",
       "      <td>0.475</td>\n",
       "      <td>0.160</td>\n",
       "      <td>0.9455</td>\n",
       "      <td>0.3815</td>\n",
       "      <td>0.1840</td>\n",
       "      <td>0.270</td>\n",
       "      <td>19</td>\n",
       "    </tr>\n",
       "    <tr>\n",
       "      <th>2998</th>\n",
       "      <td>F</td>\n",
       "      <td>0.605</td>\n",
       "      <td>0.495</td>\n",
       "      <td>0.170</td>\n",
       "      <td>1.2385</td>\n",
       "      <td>0.5280</td>\n",
       "      <td>0.2465</td>\n",
       "      <td>0.390</td>\n",
       "      <td>14</td>\n",
       "    </tr>\n",
       "    <tr>\n",
       "      <th>2999</th>\n",
       "      <td>M</td>\n",
       "      <td>0.660</td>\n",
       "      <td>0.500</td>\n",
       "      <td>0.165</td>\n",
       "      <td>1.3195</td>\n",
       "      <td>0.6670</td>\n",
       "      <td>0.2690</td>\n",
       "      <td>0.341</td>\n",
       "      <td>9</td>\n",
       "    </tr>\n",
       "  </tbody>\n",
       "</table>\n",
       "<p>3000 rows × 9 columns</p>\n",
       "</div>"
      ],
      "text/plain": [
       "      S      L      D      H      WW      SW      VW    SlW  Response1\n",
       "0     I  0.455  0.375  0.125  0.5330  0.2330  0.1060  0.185          8\n",
       "1     M  0.630  0.490  0.155  1.2525  0.6300  0.2460  0.289          9\n",
       "2     M  0.695  0.550  0.220  1.5515  0.5660  0.3835  0.445         13\n",
       "3     I  0.430  0.320  0.100  0.3855  0.1920  0.0745  0.100          7\n",
       "4     I  0.420  0.320  0.110  0.3625  0.1740  0.0635  0.105          7\n",
       "...  ..    ...    ...    ...     ...     ...     ...    ...        ...\n",
       "2995  F  0.575  0.485  0.165  1.0405  0.4190  0.2640  0.300         14\n",
       "2996  M  0.515  0.370  0.115  0.6145  0.3415  0.1550  0.146          9\n",
       "2997  M  0.590  0.475  0.160  0.9455  0.3815  0.1840  0.270         19\n",
       "2998  F  0.605  0.495  0.170  1.2385  0.5280  0.2465  0.390         14\n",
       "2999  M  0.660  0.500  0.165  1.3195  0.6670  0.2690  0.341          9\n",
       "\n",
       "[3000 rows x 9 columns]"
      ]
     },
     "execution_count": 3,
     "metadata": {},
     "output_type": "execute_result"
    }
   ],
   "source": [
    "df=pd.DataFrame(data)\n",
    "df"
   ]
  },
  {
   "cell_type": "code",
   "execution_count": 4,
   "id": "db071357",
   "metadata": {},
   "outputs": [
    {
     "name": "stdout",
     "output_type": "stream",
     "text": [
      "<class 'pandas.core.frame.DataFrame'>\n",
      "RangeIndex: 3000 entries, 0 to 2999\n",
      "Data columns (total 9 columns):\n",
      " #   Column     Non-Null Count  Dtype  \n",
      "---  ------     --------------  -----  \n",
      " 0   S          3000 non-null   object \n",
      " 1   L          3000 non-null   float64\n",
      " 2   D          3000 non-null   float64\n",
      " 3   H          3000 non-null   float64\n",
      " 4   WW         3000 non-null   float64\n",
      " 5   SW         3000 non-null   float64\n",
      " 6   VW         3000 non-null   float64\n",
      " 7   SlW        3000 non-null   float64\n",
      " 8   Response1  3000 non-null   int64  \n",
      "dtypes: float64(7), int64(1), object(1)\n",
      "memory usage: 211.1+ KB\n"
     ]
    }
   ],
   "source": [
    "df.info()"
   ]
  },
  {
   "cell_type": "code",
   "execution_count": 5,
   "id": "0c83c5df",
   "metadata": {},
   "outputs": [],
   "source": [
    "df[\"Response1\"].replace({0:\"Young\",1:\"Young\",2:\"Young\",3:\"Young\",4:\"Young\",5:\"Young\",6:\"Young\",7:\"Young\",8:\"Young\",\n",
    "                        9:\"middle\",10:\"middle\",11:\"middle\",12:\"middle\",13:\"old\",14:\"old\",15:\"old\",16:\"old\",17:\"old\",\n",
    "                        18:\"old\",19:\"old\",20:\"old\",21:\"old\",22:\"old\",23:\"old\",24:\"old\",25:\"old\",26:\"old\",27:\"old\"}, inplace = True)"
   ]
  },
  {
   "cell_type": "code",
   "execution_count": 6,
   "id": "9699838c",
   "metadata": {},
   "outputs": [
    {
     "data": {
      "text/html": [
       "<div>\n",
       "<style scoped>\n",
       "    .dataframe tbody tr th:only-of-type {\n",
       "        vertical-align: middle;\n",
       "    }\n",
       "\n",
       "    .dataframe tbody tr th {\n",
       "        vertical-align: top;\n",
       "    }\n",
       "\n",
       "    .dataframe thead th {\n",
       "        text-align: right;\n",
       "    }\n",
       "</style>\n",
       "<table border=\"1\" class=\"dataframe\">\n",
       "  <thead>\n",
       "    <tr style=\"text-align: right;\">\n",
       "      <th></th>\n",
       "      <th>S</th>\n",
       "      <th>L</th>\n",
       "      <th>D</th>\n",
       "      <th>H</th>\n",
       "      <th>WW</th>\n",
       "      <th>SW</th>\n",
       "      <th>VW</th>\n",
       "      <th>SlW</th>\n",
       "      <th>Response1</th>\n",
       "    </tr>\n",
       "  </thead>\n",
       "  <tbody>\n",
       "    <tr>\n",
       "      <th>0</th>\n",
       "      <td>I</td>\n",
       "      <td>0.455</td>\n",
       "      <td>0.375</td>\n",
       "      <td>0.125</td>\n",
       "      <td>0.5330</td>\n",
       "      <td>0.2330</td>\n",
       "      <td>0.1060</td>\n",
       "      <td>0.185</td>\n",
       "      <td>Young</td>\n",
       "    </tr>\n",
       "    <tr>\n",
       "      <th>1</th>\n",
       "      <td>M</td>\n",
       "      <td>0.630</td>\n",
       "      <td>0.490</td>\n",
       "      <td>0.155</td>\n",
       "      <td>1.2525</td>\n",
       "      <td>0.6300</td>\n",
       "      <td>0.2460</td>\n",
       "      <td>0.289</td>\n",
       "      <td>middle</td>\n",
       "    </tr>\n",
       "    <tr>\n",
       "      <th>2</th>\n",
       "      <td>M</td>\n",
       "      <td>0.695</td>\n",
       "      <td>0.550</td>\n",
       "      <td>0.220</td>\n",
       "      <td>1.5515</td>\n",
       "      <td>0.5660</td>\n",
       "      <td>0.3835</td>\n",
       "      <td>0.445</td>\n",
       "      <td>old</td>\n",
       "    </tr>\n",
       "    <tr>\n",
       "      <th>3</th>\n",
       "      <td>I</td>\n",
       "      <td>0.430</td>\n",
       "      <td>0.320</td>\n",
       "      <td>0.100</td>\n",
       "      <td>0.3855</td>\n",
       "      <td>0.1920</td>\n",
       "      <td>0.0745</td>\n",
       "      <td>0.100</td>\n",
       "      <td>Young</td>\n",
       "    </tr>\n",
       "    <tr>\n",
       "      <th>4</th>\n",
       "      <td>I</td>\n",
       "      <td>0.420</td>\n",
       "      <td>0.320</td>\n",
       "      <td>0.110</td>\n",
       "      <td>0.3625</td>\n",
       "      <td>0.1740</td>\n",
       "      <td>0.0635</td>\n",
       "      <td>0.105</td>\n",
       "      <td>Young</td>\n",
       "    </tr>\n",
       "    <tr>\n",
       "      <th>...</th>\n",
       "      <td>...</td>\n",
       "      <td>...</td>\n",
       "      <td>...</td>\n",
       "      <td>...</td>\n",
       "      <td>...</td>\n",
       "      <td>...</td>\n",
       "      <td>...</td>\n",
       "      <td>...</td>\n",
       "      <td>...</td>\n",
       "    </tr>\n",
       "    <tr>\n",
       "      <th>2995</th>\n",
       "      <td>F</td>\n",
       "      <td>0.575</td>\n",
       "      <td>0.485</td>\n",
       "      <td>0.165</td>\n",
       "      <td>1.0405</td>\n",
       "      <td>0.4190</td>\n",
       "      <td>0.2640</td>\n",
       "      <td>0.300</td>\n",
       "      <td>old</td>\n",
       "    </tr>\n",
       "    <tr>\n",
       "      <th>2996</th>\n",
       "      <td>M</td>\n",
       "      <td>0.515</td>\n",
       "      <td>0.370</td>\n",
       "      <td>0.115</td>\n",
       "      <td>0.6145</td>\n",
       "      <td>0.3415</td>\n",
       "      <td>0.1550</td>\n",
       "      <td>0.146</td>\n",
       "      <td>middle</td>\n",
       "    </tr>\n",
       "    <tr>\n",
       "      <th>2997</th>\n",
       "      <td>M</td>\n",
       "      <td>0.590</td>\n",
       "      <td>0.475</td>\n",
       "      <td>0.160</td>\n",
       "      <td>0.9455</td>\n",
       "      <td>0.3815</td>\n",
       "      <td>0.1840</td>\n",
       "      <td>0.270</td>\n",
       "      <td>old</td>\n",
       "    </tr>\n",
       "    <tr>\n",
       "      <th>2998</th>\n",
       "      <td>F</td>\n",
       "      <td>0.605</td>\n",
       "      <td>0.495</td>\n",
       "      <td>0.170</td>\n",
       "      <td>1.2385</td>\n",
       "      <td>0.5280</td>\n",
       "      <td>0.2465</td>\n",
       "      <td>0.390</td>\n",
       "      <td>old</td>\n",
       "    </tr>\n",
       "    <tr>\n",
       "      <th>2999</th>\n",
       "      <td>M</td>\n",
       "      <td>0.660</td>\n",
       "      <td>0.500</td>\n",
       "      <td>0.165</td>\n",
       "      <td>1.3195</td>\n",
       "      <td>0.6670</td>\n",
       "      <td>0.2690</td>\n",
       "      <td>0.341</td>\n",
       "      <td>middle</td>\n",
       "    </tr>\n",
       "  </tbody>\n",
       "</table>\n",
       "<p>3000 rows × 9 columns</p>\n",
       "</div>"
      ],
      "text/plain": [
       "      S      L      D      H      WW      SW      VW    SlW Response1\n",
       "0     I  0.455  0.375  0.125  0.5330  0.2330  0.1060  0.185     Young\n",
       "1     M  0.630  0.490  0.155  1.2525  0.6300  0.2460  0.289    middle\n",
       "2     M  0.695  0.550  0.220  1.5515  0.5660  0.3835  0.445       old\n",
       "3     I  0.430  0.320  0.100  0.3855  0.1920  0.0745  0.100     Young\n",
       "4     I  0.420  0.320  0.110  0.3625  0.1740  0.0635  0.105     Young\n",
       "...  ..    ...    ...    ...     ...     ...     ...    ...       ...\n",
       "2995  F  0.575  0.485  0.165  1.0405  0.4190  0.2640  0.300       old\n",
       "2996  M  0.515  0.370  0.115  0.6145  0.3415  0.1550  0.146    middle\n",
       "2997  M  0.590  0.475  0.160  0.9455  0.3815  0.1840  0.270       old\n",
       "2998  F  0.605  0.495  0.170  1.2385  0.5280  0.2465  0.390       old\n",
       "2999  M  0.660  0.500  0.165  1.3195  0.6670  0.2690  0.341    middle\n",
       "\n",
       "[3000 rows x 9 columns]"
      ]
     },
     "execution_count": 6,
     "metadata": {},
     "output_type": "execute_result"
    }
   ],
   "source": [
    "df"
   ]
  },
  {
   "cell_type": "code",
   "execution_count": 7,
   "id": "8c5213f8",
   "metadata": {},
   "outputs": [
    {
     "data": {
      "text/plain": [
       "middle    1484\n",
       "Young     1015\n",
       "old        501\n",
       "Name: Response1, dtype: int64"
      ]
     },
     "execution_count": 7,
     "metadata": {},
     "output_type": "execute_result"
    }
   ],
   "source": [
    "df.Response1.value_counts()"
   ]
  },
  {
   "cell_type": "code",
   "execution_count": 8,
   "id": "3d10af34",
   "metadata": {},
   "outputs": [
    {
     "name": "stdout",
     "output_type": "stream",
     "text": [
      "<class 'pandas.core.frame.DataFrame'>\n",
      "RangeIndex: 3000 entries, 0 to 2999\n",
      "Data columns (total 9 columns):\n",
      " #   Column     Non-Null Count  Dtype  \n",
      "---  ------     --------------  -----  \n",
      " 0   S          3000 non-null   object \n",
      " 1   L          3000 non-null   float64\n",
      " 2   D          3000 non-null   float64\n",
      " 3   H          3000 non-null   float64\n",
      " 4   WW         3000 non-null   float64\n",
      " 5   SW         3000 non-null   float64\n",
      " 6   VW         3000 non-null   float64\n",
      " 7   SlW        3000 non-null   float64\n",
      " 8   Response1  3000 non-null   object \n",
      "dtypes: float64(7), object(2)\n",
      "memory usage: 211.1+ KB\n"
     ]
    }
   ],
   "source": [
    "df.info()"
   ]
  },
  {
   "cell_type": "code",
   "execution_count": 9,
   "id": "d63f925e",
   "metadata": {},
   "outputs": [
    {
     "data": {
      "text/plain": [
       "S            0\n",
       "L            0\n",
       "D            0\n",
       "H            0\n",
       "WW           0\n",
       "SW           0\n",
       "VW           0\n",
       "SlW          0\n",
       "Response1    0\n",
       "dtype: int64"
      ]
     },
     "execution_count": 9,
     "metadata": {},
     "output_type": "execute_result"
    }
   ],
   "source": [
    "df.isnull().sum()"
   ]
  },
  {
   "cell_type": "code",
   "execution_count": 10,
   "id": "7fd8474a",
   "metadata": {},
   "outputs": [
    {
     "data": {
      "text/html": [
       "<div>\n",
       "<style scoped>\n",
       "    .dataframe tbody tr th:only-of-type {\n",
       "        vertical-align: middle;\n",
       "    }\n",
       "\n",
       "    .dataframe tbody tr th {\n",
       "        vertical-align: top;\n",
       "    }\n",
       "\n",
       "    .dataframe thead th {\n",
       "        text-align: right;\n",
       "    }\n",
       "</style>\n",
       "<table border=\"1\" class=\"dataframe\">\n",
       "  <thead>\n",
       "    <tr style=\"text-align: right;\">\n",
       "      <th></th>\n",
       "      <th>L</th>\n",
       "      <th>D</th>\n",
       "      <th>H</th>\n",
       "      <th>WW</th>\n",
       "      <th>SW</th>\n",
       "      <th>VW</th>\n",
       "      <th>SlW</th>\n",
       "    </tr>\n",
       "  </thead>\n",
       "  <tbody>\n",
       "    <tr>\n",
       "      <th>count</th>\n",
       "      <td>3000.000000</td>\n",
       "      <td>3000.000000</td>\n",
       "      <td>3000.000000</td>\n",
       "      <td>3000.000000</td>\n",
       "      <td>3000.000000</td>\n",
       "      <td>3000.000000</td>\n",
       "      <td>3000.000000</td>\n",
       "    </tr>\n",
       "    <tr>\n",
       "      <th>mean</th>\n",
       "      <td>0.525460</td>\n",
       "      <td>0.408830</td>\n",
       "      <td>0.139725</td>\n",
       "      <td>0.834814</td>\n",
       "      <td>0.362266</td>\n",
       "      <td>0.181598</td>\n",
       "      <td>0.240476</td>\n",
       "    </tr>\n",
       "    <tr>\n",
       "      <th>std</th>\n",
       "      <td>0.119308</td>\n",
       "      <td>0.098598</td>\n",
       "      <td>0.042354</td>\n",
       "      <td>0.492227</td>\n",
       "      <td>0.223287</td>\n",
       "      <td>0.110191</td>\n",
       "      <td>0.139637</td>\n",
       "    </tr>\n",
       "    <tr>\n",
       "      <th>min</th>\n",
       "      <td>0.075000</td>\n",
       "      <td>0.055000</td>\n",
       "      <td>0.000000</td>\n",
       "      <td>0.002000</td>\n",
       "      <td>0.001000</td>\n",
       "      <td>0.000500</td>\n",
       "      <td>0.001500</td>\n",
       "    </tr>\n",
       "    <tr>\n",
       "      <th>25%</th>\n",
       "      <td>0.450000</td>\n",
       "      <td>0.350000</td>\n",
       "      <td>0.115000</td>\n",
       "      <td>0.440375</td>\n",
       "      <td>0.186000</td>\n",
       "      <td>0.092500</td>\n",
       "      <td>0.130000</td>\n",
       "    </tr>\n",
       "    <tr>\n",
       "      <th>50%</th>\n",
       "      <td>0.545000</td>\n",
       "      <td>0.425000</td>\n",
       "      <td>0.140000</td>\n",
       "      <td>0.802500</td>\n",
       "      <td>0.339750</td>\n",
       "      <td>0.171500</td>\n",
       "      <td>0.235000</td>\n",
       "    </tr>\n",
       "    <tr>\n",
       "      <th>75%</th>\n",
       "      <td>0.620000</td>\n",
       "      <td>0.485000</td>\n",
       "      <td>0.165000</td>\n",
       "      <td>1.166125</td>\n",
       "      <td>0.508125</td>\n",
       "      <td>0.255500</td>\n",
       "      <td>0.334500</td>\n",
       "    </tr>\n",
       "    <tr>\n",
       "      <th>max</th>\n",
       "      <td>0.815000</td>\n",
       "      <td>0.650000</td>\n",
       "      <td>1.130000</td>\n",
       "      <td>2.779500</td>\n",
       "      <td>1.351000</td>\n",
       "      <td>0.760000</td>\n",
       "      <td>1.005000</td>\n",
       "    </tr>\n",
       "  </tbody>\n",
       "</table>\n",
       "</div>"
      ],
      "text/plain": [
       "                 L            D            H           WW           SW  \\\n",
       "count  3000.000000  3000.000000  3000.000000  3000.000000  3000.000000   \n",
       "mean      0.525460     0.408830     0.139725     0.834814     0.362266   \n",
       "std       0.119308     0.098598     0.042354     0.492227     0.223287   \n",
       "min       0.075000     0.055000     0.000000     0.002000     0.001000   \n",
       "25%       0.450000     0.350000     0.115000     0.440375     0.186000   \n",
       "50%       0.545000     0.425000     0.140000     0.802500     0.339750   \n",
       "75%       0.620000     0.485000     0.165000     1.166125     0.508125   \n",
       "max       0.815000     0.650000     1.130000     2.779500     1.351000   \n",
       "\n",
       "                VW          SlW  \n",
       "count  3000.000000  3000.000000  \n",
       "mean      0.181598     0.240476  \n",
       "std       0.110191     0.139637  \n",
       "min       0.000500     0.001500  \n",
       "25%       0.092500     0.130000  \n",
       "50%       0.171500     0.235000  \n",
       "75%       0.255500     0.334500  \n",
       "max       0.760000     1.005000  "
      ]
     },
     "execution_count": 10,
     "metadata": {},
     "output_type": "execute_result"
    }
   ],
   "source": [
    "df.describe()"
   ]
  },
  {
   "cell_type": "code",
   "execution_count": 11,
   "id": "1dcc653a",
   "metadata": {},
   "outputs": [
    {
     "data": {
      "image/png": "[encoded data removed]",
      "text/plain": [
       "<Figure size 1600x800 with 1 Axes>"
      ]
     },
     "metadata": {
      "needs_background": "light"
     },
     "output_type": "display_data"
    }
   ],
   "source": [
    "plt.figure(figsize=(16,8),dpi=100)\n",
    "plt.scatter(df[\"L\"],df[\"Response1\"])\n",
    "plt.show()"
   ]
  },
  {
   "cell_type": "code",
   "execution_count": 12,
   "id": "6e5eefb8",
   "metadata": {},
   "outputs": [
    {
     "data": {
      "image/png": "[encoded data removed]",
      "text/plain": [
       "<Figure size 1600x800 with 1 Axes>"
      ]
     },
     "metadata": {
      "needs_background": "light"
     },
     "output_type": "display_data"
    }
   ],
   "source": [
    "plt.figure(figsize=(16,8),dpi=100)\n",
    "plt.scatter(df[\"D\"],df[\"Response1\"])\n",
    "plt.show()"
   ]
  },
  {
   "cell_type": "code",
   "execution_count": 13,
   "id": "55fbf5db",
   "metadata": {},
   "outputs": [
    {
     "data": {
      "image/png": "[encoded data removed]",
      "text/plain": [
       "<Figure size 1600x800 with 1 Axes>"
      ]
     },
     "metadata": {
      "needs_background": "light"
     },
     "output_type": "display_data"
    }
   ],
   "source": [
    "plt.figure(figsize=(16,8),dpi=100)\n",
    "plt.scatter(df[\"H\"],df[\"Response1\"])\n",
    "plt.show()"
   ]
  },
  {
   "cell_type": "code",
   "execution_count": 14,
   "id": "0e3cbdba",
   "metadata": {},
   "outputs": [
    {
     "data": {
      "image/png": "[encoded data removed]",
      "text/plain": [
       "<Figure size 1600x800 with 1 Axes>"
      ]
     },
     "metadata": {
      "needs_background": "light"
     },
     "output_type": "display_data"
    }
   ],
   "source": [
    "plt.figure(figsize=(16,8),dpi=100)\n",
    "plt.scatter(df[\"WW\"],df[\"Response1\"])\n",
    "plt.show()"
   ]
  },
  {
   "cell_type": "code",
   "execution_count": 15,
   "id": "b277c738",
   "metadata": {},
   "outputs": [
    {
     "data": {
      "image/png": "[encoded data removed]",
      "text/plain": [
       "<Figure size 1600x800 with 1 Axes>"
      ]
     },
     "metadata": {
      "needs_background": "light"
     },
     "output_type": "display_data"
    }
   ],
   "source": [
    "plt.figure(figsize=(16,8),dpi=100)\n",
    "plt.scatter(df[\"SW\"],df[\"Response1\"])\n",
    "plt.show()"
   ]
  },
  {
   "cell_type": "code",
   "execution_count": 16,
   "id": "ee1067e6",
   "metadata": {},
   "outputs": [
    {
     "data": {
      "image/png": "[encoded data removed]",
      "text/plain": [
       "<Figure size 1600x800 with 1 Axes>"
      ]
     },
     "metadata": {
      "needs_background": "light"
     },
     "output_type": "display_data"
    }
   ],
   "source": [
    "plt.figure(figsize=(16,8),dpi=100)\n",
    "plt.scatter(df[\"VW\"],df[\"Response1\"])\n",
    "plt.show()"
   ]
  },
  {
   "cell_type": "code",
   "execution_count": 17,
   "id": "5931d48b",
   "metadata": {},
   "outputs": [
    {
     "data": {
      "image/png": "[encoded data removed]",
      "text/plain": [
       "<Figure size 1600x800 with 1 Axes>"
      ]
     },
     "metadata": {
      "needs_background": "light"
     },
     "output_type": "display_data"
    }
   ],
   "source": [
    "plt.figure(figsize=(16,8),dpi=100)\n",
    "plt.scatter(df[\"SlW\"],df[\"Response1\"])\n",
    "plt.show()"
   ]
  },
  {
   "cell_type": "code",
   "execution_count": 18,
   "id": "5dac66dd",
   "metadata": {},
   "outputs": [
    {
     "data": {
      "image/png": "[encoded data removed]",
      "text/plain": [
       "<Figure size 1600x800 with 1 Axes>"
      ]
     },
     "metadata": {
      "needs_background": "light"
     },
     "output_type": "display_data"
    }
   ],
   "source": [
    "plt.figure(figsize=(16,8),dpi=100)\n",
    "plt.scatter(df[\"S\"],df[\"Response1\"])\n",
    "plt.show()"
   ]
  },
  {
   "cell_type": "code",
   "execution_count": 19,
   "id": "be660414",
   "metadata": {},
   "outputs": [
    {
     "data": {
      "text/plain": [
       "2869    0.075\n",
       "709     0.130\n",
       "2490    0.130\n",
       "1304    0.135\n",
       "382     0.140\n",
       "1434    0.155\n",
       "59      0.160\n",
       "631     0.160\n",
       "1741    0.160\n",
       "536     0.165\n",
       "Name: L, dtype: float64"
      ]
     },
     "execution_count": 19,
     "metadata": {},
     "output_type": "execute_result"
    }
   ],
   "source": [
    "df.L.nsmallest(10)"
   ]
  },
  {
   "cell_type": "code",
   "execution_count": 20,
   "id": "76753362",
   "metadata": {},
   "outputs": [
    {
     "data": {
      "text/plain": [
       "2734    0.815\n",
       "2273    0.800\n",
       "1866    0.780\n",
       "94      0.775\n",
       "757     0.775\n",
       "1136    0.770\n",
       "1658    0.770\n",
       "550     0.765\n",
       "2818    0.760\n",
       "2121    0.755\n",
       "Name: L, dtype: float64"
      ]
     },
     "execution_count": 20,
     "metadata": {},
     "output_type": "execute_result"
    }
   ],
   "source": [
    "df.L.nlargest(10)"
   ]
  },
  {
   "cell_type": "code",
   "execution_count": 21,
   "id": "78d4cba1",
   "metadata": {},
   "outputs": [
    {
     "data": {
      "text/plain": [
       "2869    0.055\n",
       "2490    0.095\n",
       "709     0.100\n",
       "382     0.105\n",
       "2725    0.105\n",
       "59      0.110\n",
       "1309    0.110\n",
       "1434    0.110\n",
       "536     0.120\n",
       "557     0.120\n",
       "Name: D, dtype: float64"
      ]
     },
     "execution_count": 21,
     "metadata": {},
     "output_type": "execute_result"
    }
   ],
   "source": [
    "df.D.nsmallest(10)"
   ]
  },
  {
   "cell_type": "code",
   "execution_count": 22,
   "id": "ecd58a81",
   "metadata": {},
   "outputs": [
    {
     "data": {
      "text/plain": [
       "2734    0.650\n",
       "94      0.630\n",
       "2273    0.630\n",
       "2121    0.625\n",
       "1136    0.620\n",
       "1648    0.610\n",
       "1658    0.605\n",
       "2818    0.605\n",
       "373     0.600\n",
       "1629    0.600\n",
       "Name: D, dtype: float64"
      ]
     },
     "execution_count": 22,
     "metadata": {},
     "output_type": "execute_result"
    }
   ],
   "source": [
    "df.D.nlargest(10)"
   ]
  },
  {
   "cell_type": "code",
   "execution_count": 23,
   "id": "2483c9ce",
   "metadata": {},
   "outputs": [
    {
     "data": {
      "text/plain": [
       "1722    0.000\n",
       "2869    0.010\n",
       "1921    0.015\n",
       "631     0.020\n",
       "1309    0.020\n",
       "59      0.025\n",
       "1160    0.025\n",
       "536     0.030\n",
       "709     0.030\n",
       "818     0.030\n",
       "Name: H, dtype: float64"
      ]
     },
     "execution_count": 23,
     "metadata": {},
     "output_type": "execute_result"
    }
   ],
   "source": [
    "df.H.nsmallest(10)"
   ]
  },
  {
   "cell_type": "code",
   "execution_count": 24,
   "id": "a9be475b",
   "metadata": {},
   "outputs": [
    {
     "data": {
      "text/plain": [
       "2633    1.130\n",
       "94      0.250\n",
       "2459    0.250\n",
       "2734    0.250\n",
       "415     0.240\n",
       "923     0.240\n",
       "1340    0.240\n",
       "1648    0.235\n",
       "1725    0.235\n",
       "373     0.230\n",
       "Name: H, dtype: float64"
      ]
     },
     "execution_count": 24,
     "metadata": {},
     "output_type": "execute_result"
    }
   ],
   "source": [
    "df.H.nlargest(10)"
   ]
  },
  {
   "cell_type": "code",
   "execution_count": 25,
   "id": "c6c8b934",
   "metadata": {},
   "outputs": [
    {
     "data": {
      "text/plain": [
       "2869    0.0020\n",
       "2490    0.0105\n",
       "709     0.0130\n",
       "382     0.0145\n",
       "1434    0.0155\n",
       "631     0.0180\n",
       "1309    0.0190\n",
       "59      0.0195\n",
       "1289    0.0210\n",
       "1741    0.0210\n",
       "Name: WW, dtype: float64"
      ]
     },
     "execution_count": 25,
     "metadata": {},
     "output_type": "execute_result"
    }
   ],
   "source": [
    "df.WW.nsmallest(10)"
   ]
  },
  {
   "cell_type": "code",
   "execution_count": 26,
   "id": "4e092e30",
   "metadata": {},
   "outputs": [
    {
     "data": {
      "text/plain": [
       "94      2.7795\n",
       "1629    2.5550\n",
       "1940    2.5500\n",
       "1866    2.5480\n",
       "2273    2.5260\n",
       "1136    2.5155\n",
       "1648    2.5085\n",
       "2121    2.5050\n",
       "550     2.3980\n",
       "23      2.3810\n",
       "Name: WW, dtype: float64"
      ]
     },
     "execution_count": 26,
     "metadata": {},
     "output_type": "execute_result"
    }
   ],
   "source": [
    "df.WW.nlargest(10)"
   ]
  },
  {
   "cell_type": "code",
   "execution_count": 27,
   "id": "948a8327",
   "metadata": {},
   "outputs": [
    {
     "data": {
      "text/plain": [
       "415     1.3510\n",
       "94      1.3485\n",
       "1863    1.2530\n",
       "2154    1.2455\n",
       "1453    1.2395\n",
       "2987    1.2395\n",
       "1648    1.2320\n",
       "2121    1.1965\n",
       "1866    1.1945\n",
       "2229    1.1705\n",
       "Name: SW, dtype: float64"
      ]
     },
     "execution_count": 27,
     "metadata": {},
     "output_type": "execute_result"
    }
   ],
   "source": [
    "df.SW.nlargest(10)"
   ]
  },
  {
   "cell_type": "code",
   "execution_count": 28,
   "id": "1826bd8f",
   "metadata": {},
   "outputs": [
    {
     "data": {
      "text/plain": [
       "2869    0.0010\n",
       "709     0.0045\n",
       "382     0.0050\n",
       "2490    0.0050\n",
       "1309    0.0065\n",
       "1434    0.0065\n",
       "536     0.0070\n",
       "59      0.0075\n",
       "631     0.0075\n",
       "1289    0.0075\n",
       "Name: SW, dtype: float64"
      ]
     },
     "execution_count": 28,
     "metadata": {},
     "output_type": "execute_result"
    }
   ],
   "source": [
    "df.SW.nsmallest(10)"
   ]
  },
  {
   "cell_type": "code",
   "execution_count": 29,
   "id": "00981ffa",
   "metadata": {},
   "outputs": [
    {
     "data": {
      "text/plain": [
       "94      0.7600\n",
       "1136    0.6415\n",
       "2273    0.5900\n",
       "1866    0.5745\n",
       "1117    0.5640\n",
       "2041    0.5500\n",
       "1863    0.5410\n",
       "1658    0.5260\n",
       "2070    0.5250\n",
       "531     0.5235\n",
       "Name: VW, dtype: float64"
      ]
     },
     "execution_count": 29,
     "metadata": {},
     "output_type": "execute_result"
    }
   ],
   "source": [
    "df.VW.nlargest(10)"
   ]
  },
  {
   "cell_type": "code",
   "execution_count": 30,
   "id": "76ee2644",
   "metadata": {},
   "outputs": [
    {
     "data": {
      "text/plain": [
       "2869    0.0005\n",
       "1309    0.0025\n",
       "709     0.0030\n",
       "1434    0.0030\n",
       "382     0.0035\n",
       "1124    0.0035\n",
       "631     0.0045\n",
       "1289    0.0045\n",
       "1741    0.0045\n",
       "59      0.0050\n",
       "Name: VW, dtype: float64"
      ]
     },
     "execution_count": 30,
     "metadata": {},
     "output_type": "execute_result"
    }
   ],
   "source": [
    "df.VW.nsmallest(10)"
   ]
  },
  {
   "cell_type": "code",
   "execution_count": 31,
   "id": "1520dab0",
   "metadata": {},
   "outputs": [
    {
     "data": {
      "text/plain": [
       "988     1.0050\n",
       "312     0.8850\n",
       "2501    0.8500\n",
       "2734    0.7975\n",
       "892     0.7800\n",
       "567     0.7600\n",
       "1940    0.7250\n",
       "2630    0.7250\n",
       "2898    0.7250\n",
       "2443    0.7100\n",
       "Name: SlW, dtype: float64"
      ]
     },
     "execution_count": 31,
     "metadata": {},
     "output_type": "execute_result"
    }
   ],
   "source": [
    "df.SlW.nlargest(10)"
   ]
  },
  {
   "cell_type": "code",
   "execution_count": 32,
   "id": "49667945",
   "metadata": {},
   "outputs": [
    {
     "data": {
      "text/plain": [
       "L      0.54500\n",
       "D      0.42500\n",
       "H      0.14000\n",
       "WW     0.80250\n",
       "SW     0.33975\n",
       "VW     0.17150\n",
       "SlW    0.23500\n",
       "dtype: float64"
      ]
     },
     "execution_count": 32,
     "metadata": {},
     "output_type": "execute_result"
    }
   ],
   "source": [
    "df.median()"
   ]
  },
  {
   "cell_type": "code",
   "execution_count": 33,
   "id": "08413e34",
   "metadata": {},
   "outputs": [],
   "source": [
    "df.fillna(data.median(), inplace=True)"
   ]
  },
  {
   "cell_type": "code",
   "execution_count": 34,
   "id": "4470c6d4",
   "metadata": {},
   "outputs": [
    {
     "name": "stderr",
     "output_type": "stream",
     "text": [
      "C:\\Users\\Parisan\\anaconda3\\lib\\site-packages\\seaborn\\_decorators.py:36: FutureWarning: Pass the following variable as a keyword arg: x. From version 0.12, the only valid positional argument will be `data`, and passing other arguments without an explicit keyword will result in an error or misinterpretation.\n",
      "  warnings.warn(\n",
      "C:\\Users\\Parisan\\anaconda3\\lib\\site-packages\\seaborn\\_decorators.py:36: FutureWarning: Pass the following variable as a keyword arg: x. From version 0.12, the only valid positional argument will be `data`, and passing other arguments without an explicit keyword will result in an error or misinterpretation.\n",
      "  warnings.warn(\n",
      "C:\\Users\\Parisan\\anaconda3\\lib\\site-packages\\seaborn\\_decorators.py:36: FutureWarning: Pass the following variable as a keyword arg: x. From version 0.12, the only valid positional argument will be `data`, and passing other arguments without an explicit keyword will result in an error or misinterpretation.\n",
      "  warnings.warn(\n",
      "C:\\Users\\Parisan\\anaconda3\\lib\\site-packages\\seaborn\\_decorators.py:36: FutureWarning: Pass the following variable as a keyword arg: x. From version 0.12, the only valid positional argument will be `data`, and passing other arguments without an explicit keyword will result in an error or misinterpretation.\n",
      "  warnings.warn(\n",
      "C:\\Users\\Parisan\\anaconda3\\lib\\site-packages\\seaborn\\_decorators.py:36: FutureWarning: Pass the following variable as a keyword arg: x. From version 0.12, the only valid positional argument will be `data`, and passing other arguments without an explicit keyword will result in an error or misinterpretation.\n",
      "  warnings.warn(\n",
      "C:\\Users\\Parisan\\anaconda3\\lib\\site-packages\\seaborn\\_decorators.py:36: FutureWarning: Pass the following variable as a keyword arg: x. From version 0.12, the only valid positional argument will be `data`, and passing other arguments without an explicit keyword will result in an error or misinterpretation.\n",
      "  warnings.warn(\n",
      "C:\\Users\\Parisan\\anaconda3\\lib\\site-packages\\seaborn\\_decorators.py:36: FutureWarning: Pass the following variable as a keyword arg: x. From version 0.12, the only valid positional argument will be `data`, and passing other arguments without an explicit keyword will result in an error or misinterpretation.\n",
      "  warnings.warn(\n"
     ]
    },
    {
     "data": {
      "image/png": "[encoded data removed]",
      "text/plain": [
       "<Figure size 1440x1080 with 7 Axes>"
      ]
     },
     "metadata": {
      "needs_background": "light"
     },
     "output_type": "display_data"
    }
   ],
   "source": [
    "plt.figure(figsize=(20,15))\n",
    "\n",
    "plt.subplot(4,4,1)\n",
    "sb.boxplot(df[\"L\"])\n",
    "\n",
    "plt.subplot(4,4,2)\n",
    "sb.boxplot(df[\"D\"])\n",
    "\n",
    "plt.subplot(4,4,3)\n",
    "sb.boxplot(df[\"H\"])\n",
    "\n",
    "plt.subplot(4,4,4)\n",
    "sb.boxplot(df[\"WW\"])\n",
    "\n",
    "\n",
    "plt.subplot(4,4,5)\n",
    "sb.boxplot(df[\"SW\"])\n",
    "\n",
    "plt.subplot(4,4,6)\n",
    "sb.boxplot(df[\"VW\"])\n",
    "\n",
    "plt.subplot(4,4,7)\n",
    "sb.boxplot(df[\"SlW\"])\n",
    "\n",
    "plt.show()"
   ]
  },
  {
   "cell_type": "code",
   "execution_count": 35,
   "id": "8e4c1fff",
   "metadata": {},
   "outputs": [],
   "source": [
    "df[\"L\"]=df[\"L\"].clip(lower=df[\"L\"].quantile(0.05),upper=df[\"L\"].quantile(0.95))\n",
    "\n",
    "df[\"D\"]=df[\"D\"].clip(lower=df[\"D\"].quantile(0.05),upper=df[\"D\"].quantile(0.95))\n",
    "\n",
    "df[\"H\"]=df[\"H\"].clip(lower=df[\"H\"].quantile(0.05),upper=df[\"H\"].quantile(0.95))\n",
    "\n",
    "df[\"WW\"]=df[\"WW\"].clip(lower=df[\"WW\"].quantile(0.05),upper=df[\"WW\"].quantile(0.95))\n",
    "\n",
    "df[\"SW\"]=df[\"SW\"].clip(lower=df[\"SW\"].quantile(0.05),upper=df[\"SW\"].quantile(0.95))\n",
    "\n",
    "df[\"VW\"]=df[\"VW\"].clip(lower=df[\"VW\"].quantile(0.05),upper=df[\"VW\"].quantile(0.95))\n",
    "\n",
    "df[\"SlW\"]=df[\"SlW\"].clip(lower=df[\"SlW\"].quantile(0.05),upper=df[\"SlW\"].quantile(0.95))"
   ]
  },
  {
   "cell_type": "code",
   "execution_count": 36,
   "id": "8ce5e8e5",
   "metadata": {},
   "outputs": [
    {
     "name": "stderr",
     "output_type": "stream",
     "text": [
      "C:\\Users\\Parisan\\anaconda3\\lib\\site-packages\\seaborn\\_decorators.py:36: FutureWarning: Pass the following variable as a keyword arg: x. From version 0.12, the only valid positional argument will be `data`, and passing other arguments without an explicit keyword will result in an error or misinterpretation.\n",
      "  warnings.warn(\n",
      "C:\\Users\\Parisan\\anaconda3\\lib\\site-packages\\seaborn\\_decorators.py:36: FutureWarning: Pass the following variable as a keyword arg: x. From version 0.12, the only valid positional argument will be `data`, and passing other arguments without an explicit keyword will result in an error or misinterpretation.\n",
      "  warnings.warn(\n",
      "C:\\Users\\Parisan\\anaconda3\\lib\\site-packages\\seaborn\\_decorators.py:36: FutureWarning: Pass the following variable as a keyword arg: x. From version 0.12, the only valid positional argument will be `data`, and passing other arguments without an explicit keyword will result in an error or misinterpretation.\n",
      "  warnings.warn(\n",
      "C:\\Users\\Parisan\\anaconda3\\lib\\site-packages\\seaborn\\_decorators.py:36: FutureWarning: Pass the following variable as a keyword arg: x. From version 0.12, the only valid positional argument will be `data`, and passing other arguments without an explicit keyword will result in an error or misinterpretation.\n",
      "  warnings.warn(\n",
      "C:\\Users\\Parisan\\anaconda3\\lib\\site-packages\\seaborn\\_decorators.py:36: FutureWarning: Pass the following variable as a keyword arg: x. From version 0.12, the only valid positional argument will be `data`, and passing other arguments without an explicit keyword will result in an error or misinterpretation.\n",
      "  warnings.warn(\n",
      "C:\\Users\\Parisan\\anaconda3\\lib\\site-packages\\seaborn\\_decorators.py:36: FutureWarning: Pass the following variable as a keyword arg: x. From version 0.12, the only valid positional argument will be `data`, and passing other arguments without an explicit keyword will result in an error or misinterpretation.\n",
      "  warnings.warn(\n",
      "C:\\Users\\Parisan\\anaconda3\\lib\\site-packages\\seaborn\\_decorators.py:36: FutureWarning: Pass the following variable as a keyword arg: x. From version 0.12, the only valid positional argument will be `data`, and passing other arguments without an explicit keyword will result in an error or misinterpretation.\n",
      "  warnings.warn(\n"
     ]
    },
    {
     "data": {
      "image/png": "[encoded data removed]",
      "text/plain": [
       "<Figure size 1440x1080 with 7 Axes>"
      ]
     },
     "metadata": {
      "needs_background": "light"
     },
     "output_type": "display_data"
    }
   ],
   "source": [
    "plt.figure(figsize=(20,15))\n",
    "\n",
    "plt.subplot(4,4,1)\n",
    "sb.boxplot(df[\"L\"])\n",
    "\n",
    "plt.subplot(4,4,2)\n",
    "sb.boxplot(df[\"D\"])\n",
    "\n",
    "plt.subplot(4,4,3)\n",
    "sb.boxplot(df[\"H\"])\n",
    "\n",
    "plt.subplot(4,4,4)\n",
    "sb.boxplot(df[\"WW\"])\n",
    "\n",
    "\n",
    "plt.subplot(4,4,5)\n",
    "sb.boxplot(df[\"SW\"])\n",
    "\n",
    "plt.subplot(4,4,6)\n",
    "sb.boxplot(df[\"VW\"])\n",
    "\n",
    "plt.subplot(4,4,7)\n",
    "sb.boxplot(df[\"SlW\"])\n",
    "\n",
    "plt.show()"
   ]
  },
  {
   "cell_type": "code",
   "execution_count": 37,
   "id": "e6899488",
   "metadata": {},
   "outputs": [
    {
     "data": {
      "text/html": [
       "<div>\n",
       "<style scoped>\n",
       "    .dataframe tbody tr th:only-of-type {\n",
       "        vertical-align: middle;\n",
       "    }\n",
       "\n",
       "    .dataframe tbody tr th {\n",
       "        vertical-align: top;\n",
       "    }\n",
       "\n",
       "    .dataframe thead th {\n",
       "        text-align: right;\n",
       "    }\n",
       "</style>\n",
       "<table border=\"1\" class=\"dataframe\">\n",
       "  <thead>\n",
       "    <tr style=\"text-align: right;\">\n",
       "      <th></th>\n",
       "      <th>S</th>\n",
       "      <th>L</th>\n",
       "      <th>D</th>\n",
       "      <th>H</th>\n",
       "      <th>WW</th>\n",
       "      <th>SW</th>\n",
       "      <th>VW</th>\n",
       "      <th>SlW</th>\n",
       "      <th>Response1</th>\n",
       "    </tr>\n",
       "  </thead>\n",
       "  <tbody>\n",
       "    <tr>\n",
       "      <th>0</th>\n",
       "      <td>I</td>\n",
       "      <td>0.455</td>\n",
       "      <td>0.375</td>\n",
       "      <td>0.125</td>\n",
       "      <td>0.5330</td>\n",
       "      <td>0.2330</td>\n",
       "      <td>0.106000</td>\n",
       "      <td>0.185</td>\n",
       "      <td>Young</td>\n",
       "    </tr>\n",
       "    <tr>\n",
       "      <th>1</th>\n",
       "      <td>M</td>\n",
       "      <td>0.630</td>\n",
       "      <td>0.490</td>\n",
       "      <td>0.155</td>\n",
       "      <td>1.2525</td>\n",
       "      <td>0.6300</td>\n",
       "      <td>0.246000</td>\n",
       "      <td>0.289</td>\n",
       "      <td>middle</td>\n",
       "    </tr>\n",
       "    <tr>\n",
       "      <th>2</th>\n",
       "      <td>M</td>\n",
       "      <td>0.690</td>\n",
       "      <td>0.545</td>\n",
       "      <td>0.200</td>\n",
       "      <td>1.5515</td>\n",
       "      <td>0.5660</td>\n",
       "      <td>0.379525</td>\n",
       "      <td>0.445</td>\n",
       "      <td>old</td>\n",
       "    </tr>\n",
       "    <tr>\n",
       "      <th>3</th>\n",
       "      <td>I</td>\n",
       "      <td>0.430</td>\n",
       "      <td>0.320</td>\n",
       "      <td>0.100</td>\n",
       "      <td>0.3855</td>\n",
       "      <td>0.1920</td>\n",
       "      <td>0.074500</td>\n",
       "      <td>0.100</td>\n",
       "      <td>Young</td>\n",
       "    </tr>\n",
       "    <tr>\n",
       "      <th>4</th>\n",
       "      <td>I</td>\n",
       "      <td>0.420</td>\n",
       "      <td>0.320</td>\n",
       "      <td>0.110</td>\n",
       "      <td>0.3625</td>\n",
       "      <td>0.1740</td>\n",
       "      <td>0.063500</td>\n",
       "      <td>0.105</td>\n",
       "      <td>Young</td>\n",
       "    </tr>\n",
       "    <tr>\n",
       "      <th>...</th>\n",
       "      <td>...</td>\n",
       "      <td>...</td>\n",
       "      <td>...</td>\n",
       "      <td>...</td>\n",
       "      <td>...</td>\n",
       "      <td>...</td>\n",
       "      <td>...</td>\n",
       "      <td>...</td>\n",
       "      <td>...</td>\n",
       "    </tr>\n",
       "    <tr>\n",
       "      <th>2995</th>\n",
       "      <td>F</td>\n",
       "      <td>0.575</td>\n",
       "      <td>0.485</td>\n",
       "      <td>0.165</td>\n",
       "      <td>1.0405</td>\n",
       "      <td>0.4190</td>\n",
       "      <td>0.264000</td>\n",
       "      <td>0.300</td>\n",
       "      <td>old</td>\n",
       "    </tr>\n",
       "    <tr>\n",
       "      <th>2996</th>\n",
       "      <td>M</td>\n",
       "      <td>0.515</td>\n",
       "      <td>0.370</td>\n",
       "      <td>0.115</td>\n",
       "      <td>0.6145</td>\n",
       "      <td>0.3415</td>\n",
       "      <td>0.155000</td>\n",
       "      <td>0.146</td>\n",
       "      <td>middle</td>\n",
       "    </tr>\n",
       "    <tr>\n",
       "      <th>2997</th>\n",
       "      <td>M</td>\n",
       "      <td>0.590</td>\n",
       "      <td>0.475</td>\n",
       "      <td>0.160</td>\n",
       "      <td>0.9455</td>\n",
       "      <td>0.3815</td>\n",
       "      <td>0.184000</td>\n",
       "      <td>0.270</td>\n",
       "      <td>old</td>\n",
       "    </tr>\n",
       "    <tr>\n",
       "      <th>2998</th>\n",
       "      <td>F</td>\n",
       "      <td>0.605</td>\n",
       "      <td>0.495</td>\n",
       "      <td>0.170</td>\n",
       "      <td>1.2385</td>\n",
       "      <td>0.5280</td>\n",
       "      <td>0.246500</td>\n",
       "      <td>0.390</td>\n",
       "      <td>old</td>\n",
       "    </tr>\n",
       "    <tr>\n",
       "      <th>2999</th>\n",
       "      <td>M</td>\n",
       "      <td>0.660</td>\n",
       "      <td>0.500</td>\n",
       "      <td>0.165</td>\n",
       "      <td>1.3195</td>\n",
       "      <td>0.6670</td>\n",
       "      <td>0.269000</td>\n",
       "      <td>0.341</td>\n",
       "      <td>middle</td>\n",
       "    </tr>\n",
       "  </tbody>\n",
       "</table>\n",
       "<p>3000 rows × 9 columns</p>\n",
       "</div>"
      ],
      "text/plain": [
       "      S      L      D      H      WW      SW        VW    SlW Response1\n",
       "0     I  0.455  0.375  0.125  0.5330  0.2330  0.106000  0.185     Young\n",
       "1     M  0.630  0.490  0.155  1.2525  0.6300  0.246000  0.289    middle\n",
       "2     M  0.690  0.545  0.200  1.5515  0.5660  0.379525  0.445       old\n",
       "3     I  0.430  0.320  0.100  0.3855  0.1920  0.074500  0.100     Young\n",
       "4     I  0.420  0.320  0.110  0.3625  0.1740  0.063500  0.105     Young\n",
       "...  ..    ...    ...    ...     ...     ...       ...    ...       ...\n",
       "2995  F  0.575  0.485  0.165  1.0405  0.4190  0.264000  0.300       old\n",
       "2996  M  0.515  0.370  0.115  0.6145  0.3415  0.155000  0.146    middle\n",
       "2997  M  0.590  0.475  0.160  0.9455  0.3815  0.184000  0.270       old\n",
       "2998  F  0.605  0.495  0.170  1.2385  0.5280  0.246500  0.390       old\n",
       "2999  M  0.660  0.500  0.165  1.3195  0.6670  0.269000  0.341    middle\n",
       "\n",
       "[3000 rows x 9 columns]"
      ]
     },
     "execution_count": 37,
     "metadata": {},
     "output_type": "execute_result"
    }
   ],
   "source": [
    "df"
   ]
  },
  {
   "cell_type": "code",
   "execution_count": 38,
   "id": "5725da22",
   "metadata": {},
   "outputs": [
    {
     "data": {
      "image/png": "[encoded data removed]",
      "text/plain": [
       "<Figure size 1440x1080 with 7 Axes>"
      ]
     },
     "metadata": {
      "needs_background": "light"
     },
     "output_type": "display_data"
    }
   ],
   "source": [
    "plt.figure(figsize=(20,15))\n",
    "\n",
    "plt.subplot(4,4,1)\n",
    "plt.hist(df[\"L\"])\n",
    "plt.grid()\n",
    "\n",
    "plt.subplot(4,4,2)\n",
    "plt.hist(df[\"D\"])\n",
    "plt.grid()\n",
    "\n",
    "plt.subplot(4,4,3)\n",
    "plt.hist(df[\"H\"])\n",
    "plt.grid()\n",
    "\n",
    "plt.subplot(4,4,4)\n",
    "plt.hist(df[\"WW\"])\n",
    "plt.grid()\n",
    "\n",
    "plt.subplot(4,4,5)\n",
    "plt.hist(df[\"SW\"])\n",
    "plt.grid()\n",
    "\n",
    "plt.subplot(4,4,6)\n",
    "plt.hist(df[\"VW\"])\n",
    "plt.grid()\n",
    "\n",
    "plt.subplot(4,4,7)\n",
    "plt.hist(df[\"SlW\"])\n",
    "\n",
    "plt.grid()\n",
    "\n",
    "plt.show()"
   ]
  },
  {
   "cell_type": "code",
   "execution_count": 39,
   "id": "4a00507d",
   "metadata": {},
   "outputs": [
    {
     "name": "stdout",
     "output_type": "stream",
     "text": [
      "Correlation Matrix \n",
      "\n"
     ]
    },
    {
     "data": {
      "image/png": "[encoded data removed]",
      "text/plain": [
       "<Figure size 1800x720 with 2 Axes>"
      ]
     },
     "metadata": {
      "needs_background": "light"
     },
     "output_type": "display_data"
    }
   ],
   "source": [
    "#heatmap\n",
    "print(\"Correlation Matrix\", \"\\n\")\n",
    "correlation = df.corr(method = \"pearson\")\n",
    "plt.figure(figsize = (25,10))\n",
    "sb.heatmap(correlation, vmax=1, square = True, annot = True)\n",
    "plt.show()"
   ]
  },
  {
   "cell_type": "code",
   "execution_count": 40,
   "id": "aab73479",
   "metadata": {},
   "outputs": [],
   "source": [
    "df.drop([\"S\"], axis =1, inplace =True)"
   ]
  },
  {
   "cell_type": "code",
   "execution_count": 41,
   "id": "6960829e",
   "metadata": {},
   "outputs": [
    {
     "data": {
      "text/html": [
       "<div>\n",
       "<style scoped>\n",
       "    .dataframe tbody tr th:only-of-type {\n",
       "        vertical-align: middle;\n",
       "    }\n",
       "\n",
       "    .dataframe tbody tr th {\n",
       "        vertical-align: top;\n",
       "    }\n",
       "\n",
       "    .dataframe thead th {\n",
       "        text-align: right;\n",
       "    }\n",
       "</style>\n",
       "<table border=\"1\" class=\"dataframe\">\n",
       "  <thead>\n",
       "    <tr style=\"text-align: right;\">\n",
       "      <th></th>\n",
       "      <th>L</th>\n",
       "      <th>D</th>\n",
       "      <th>H</th>\n",
       "      <th>WW</th>\n",
       "      <th>SW</th>\n",
       "      <th>VW</th>\n",
       "      <th>SlW</th>\n",
       "      <th>Response1</th>\n",
       "    </tr>\n",
       "  </thead>\n",
       "  <tbody>\n",
       "    <tr>\n",
       "      <th>0</th>\n",
       "      <td>0.455</td>\n",
       "      <td>0.375</td>\n",
       "      <td>0.125</td>\n",
       "      <td>0.5330</td>\n",
       "      <td>0.2330</td>\n",
       "      <td>0.106000</td>\n",
       "      <td>0.185</td>\n",
       "      <td>Young</td>\n",
       "    </tr>\n",
       "    <tr>\n",
       "      <th>1</th>\n",
       "      <td>0.630</td>\n",
       "      <td>0.490</td>\n",
       "      <td>0.155</td>\n",
       "      <td>1.2525</td>\n",
       "      <td>0.6300</td>\n",
       "      <td>0.246000</td>\n",
       "      <td>0.289</td>\n",
       "      <td>middle</td>\n",
       "    </tr>\n",
       "    <tr>\n",
       "      <th>2</th>\n",
       "      <td>0.690</td>\n",
       "      <td>0.545</td>\n",
       "      <td>0.200</td>\n",
       "      <td>1.5515</td>\n",
       "      <td>0.5660</td>\n",
       "      <td>0.379525</td>\n",
       "      <td>0.445</td>\n",
       "      <td>old</td>\n",
       "    </tr>\n",
       "    <tr>\n",
       "      <th>3</th>\n",
       "      <td>0.430</td>\n",
       "      <td>0.320</td>\n",
       "      <td>0.100</td>\n",
       "      <td>0.3855</td>\n",
       "      <td>0.1920</td>\n",
       "      <td>0.074500</td>\n",
       "      <td>0.100</td>\n",
       "      <td>Young</td>\n",
       "    </tr>\n",
       "    <tr>\n",
       "      <th>4</th>\n",
       "      <td>0.420</td>\n",
       "      <td>0.320</td>\n",
       "      <td>0.110</td>\n",
       "      <td>0.3625</td>\n",
       "      <td>0.1740</td>\n",
       "      <td>0.063500</td>\n",
       "      <td>0.105</td>\n",
       "      <td>Young</td>\n",
       "    </tr>\n",
       "    <tr>\n",
       "      <th>...</th>\n",
       "      <td>...</td>\n",
       "      <td>...</td>\n",
       "      <td>...</td>\n",
       "      <td>...</td>\n",
       "      <td>...</td>\n",
       "      <td>...</td>\n",
       "      <td>...</td>\n",
       "      <td>...</td>\n",
       "    </tr>\n",
       "    <tr>\n",
       "      <th>2995</th>\n",
       "      <td>0.575</td>\n",
       "      <td>0.485</td>\n",
       "      <td>0.165</td>\n",
       "      <td>1.0405</td>\n",
       "      <td>0.4190</td>\n",
       "      <td>0.264000</td>\n",
       "      <td>0.300</td>\n",
       "      <td>old</td>\n",
       "    </tr>\n",
       "    <tr>\n",
       "      <th>2996</th>\n",
       "      <td>0.515</td>\n",
       "      <td>0.370</td>\n",
       "      <td>0.115</td>\n",
       "      <td>0.6145</td>\n",
       "      <td>0.3415</td>\n",
       "      <td>0.155000</td>\n",
       "      <td>0.146</td>\n",
       "      <td>middle</td>\n",
       "    </tr>\n",
       "    <tr>\n",
       "      <th>2997</th>\n",
       "      <td>0.590</td>\n",
       "      <td>0.475</td>\n",
       "      <td>0.160</td>\n",
       "      <td>0.9455</td>\n",
       "      <td>0.3815</td>\n",
       "      <td>0.184000</td>\n",
       "      <td>0.270</td>\n",
       "      <td>old</td>\n",
       "    </tr>\n",
       "    <tr>\n",
       "      <th>2998</th>\n",
       "      <td>0.605</td>\n",
       "      <td>0.495</td>\n",
       "      <td>0.170</td>\n",
       "      <td>1.2385</td>\n",
       "      <td>0.5280</td>\n",
       "      <td>0.246500</td>\n",
       "      <td>0.390</td>\n",
       "      <td>old</td>\n",
       "    </tr>\n",
       "    <tr>\n",
       "      <th>2999</th>\n",
       "      <td>0.660</td>\n",
       "      <td>0.500</td>\n",
       "      <td>0.165</td>\n",
       "      <td>1.3195</td>\n",
       "      <td>0.6670</td>\n",
       "      <td>0.269000</td>\n",
       "      <td>0.341</td>\n",
       "      <td>middle</td>\n",
       "    </tr>\n",
       "  </tbody>\n",
       "</table>\n",
       "<p>3000 rows × 8 columns</p>\n",
       "</div>"
      ],
      "text/plain": [
       "          L      D      H      WW      SW        VW    SlW Response1\n",
       "0     0.455  0.375  0.125  0.5330  0.2330  0.106000  0.185     Young\n",
       "1     0.630  0.490  0.155  1.2525  0.6300  0.246000  0.289    middle\n",
       "2     0.690  0.545  0.200  1.5515  0.5660  0.379525  0.445       old\n",
       "3     0.430  0.320  0.100  0.3855  0.1920  0.074500  0.100     Young\n",
       "4     0.420  0.320  0.110  0.3625  0.1740  0.063500  0.105     Young\n",
       "...     ...    ...    ...     ...     ...       ...    ...       ...\n",
       "2995  0.575  0.485  0.165  1.0405  0.4190  0.264000  0.300       old\n",
       "2996  0.515  0.370  0.115  0.6145  0.3415  0.155000  0.146    middle\n",
       "2997  0.590  0.475  0.160  0.9455  0.3815  0.184000  0.270       old\n",
       "2998  0.605  0.495  0.170  1.2385  0.5280  0.246500  0.390       old\n",
       "2999  0.660  0.500  0.165  1.3195  0.6670  0.269000  0.341    middle\n",
       "\n",
       "[3000 rows x 8 columns]"
      ]
     },
     "execution_count": 41,
     "metadata": {},
     "output_type": "execute_result"
    }
   ],
   "source": [
    "df"
   ]
  },
  {
   "cell_type": "code",
   "execution_count": 42,
   "id": "34803f1c",
   "metadata": {},
   "outputs": [],
   "source": [
    "x=pd.DataFrame(df, columns=[\"L\",\"D\",\"H\",\"WW\",\"SW\",\"VW\",\"SlW\"])\n",
    "y=df.Response1.values.reshape(-1,1)"
   ]
  },
  {
   "cell_type": "code",
   "execution_count": 43,
   "id": "92101c74",
   "metadata": {},
   "outputs": [
    {
     "data": {
      "text/html": [
       "<div>\n",
       "<style scoped>\n",
       "    .dataframe tbody tr th:only-of-type {\n",
       "        vertical-align: middle;\n",
       "    }\n",
       "\n",
       "    .dataframe tbody tr th {\n",
       "        vertical-align: top;\n",
       "    }\n",
       "\n",
       "    .dataframe thead th {\n",
       "        text-align: right;\n",
       "    }\n",
       "</style>\n",
       "<table border=\"1\" class=\"dataframe\">\n",
       "  <thead>\n",
       "    <tr style=\"text-align: right;\">\n",
       "      <th></th>\n",
       "      <th>L</th>\n",
       "      <th>D</th>\n",
       "      <th>H</th>\n",
       "      <th>WW</th>\n",
       "      <th>SW</th>\n",
       "      <th>VW</th>\n",
       "      <th>SlW</th>\n",
       "    </tr>\n",
       "  </thead>\n",
       "  <tbody>\n",
       "    <tr>\n",
       "      <th>0</th>\n",
       "      <td>0.455</td>\n",
       "      <td>0.375</td>\n",
       "      <td>0.125</td>\n",
       "      <td>0.5330</td>\n",
       "      <td>0.2330</td>\n",
       "      <td>0.106000</td>\n",
       "      <td>0.185</td>\n",
       "    </tr>\n",
       "    <tr>\n",
       "      <th>1</th>\n",
       "      <td>0.630</td>\n",
       "      <td>0.490</td>\n",
       "      <td>0.155</td>\n",
       "      <td>1.2525</td>\n",
       "      <td>0.6300</td>\n",
       "      <td>0.246000</td>\n",
       "      <td>0.289</td>\n",
       "    </tr>\n",
       "    <tr>\n",
       "      <th>2</th>\n",
       "      <td>0.690</td>\n",
       "      <td>0.545</td>\n",
       "      <td>0.200</td>\n",
       "      <td>1.5515</td>\n",
       "      <td>0.5660</td>\n",
       "      <td>0.379525</td>\n",
       "      <td>0.445</td>\n",
       "    </tr>\n",
       "    <tr>\n",
       "      <th>3</th>\n",
       "      <td>0.430</td>\n",
       "      <td>0.320</td>\n",
       "      <td>0.100</td>\n",
       "      <td>0.3855</td>\n",
       "      <td>0.1920</td>\n",
       "      <td>0.074500</td>\n",
       "      <td>0.100</td>\n",
       "    </tr>\n",
       "    <tr>\n",
       "      <th>4</th>\n",
       "      <td>0.420</td>\n",
       "      <td>0.320</td>\n",
       "      <td>0.110</td>\n",
       "      <td>0.3625</td>\n",
       "      <td>0.1740</td>\n",
       "      <td>0.063500</td>\n",
       "      <td>0.105</td>\n",
       "    </tr>\n",
       "    <tr>\n",
       "      <th>...</th>\n",
       "      <td>...</td>\n",
       "      <td>...</td>\n",
       "      <td>...</td>\n",
       "      <td>...</td>\n",
       "      <td>...</td>\n",
       "      <td>...</td>\n",
       "      <td>...</td>\n",
       "    </tr>\n",
       "    <tr>\n",
       "      <th>2995</th>\n",
       "      <td>0.575</td>\n",
       "      <td>0.485</td>\n",
       "      <td>0.165</td>\n",
       "      <td>1.0405</td>\n",
       "      <td>0.4190</td>\n",
       "      <td>0.264000</td>\n",
       "      <td>0.300</td>\n",
       "    </tr>\n",
       "    <tr>\n",
       "      <th>2996</th>\n",
       "      <td>0.515</td>\n",
       "      <td>0.370</td>\n",
       "      <td>0.115</td>\n",
       "      <td>0.6145</td>\n",
       "      <td>0.3415</td>\n",
       "      <td>0.155000</td>\n",
       "      <td>0.146</td>\n",
       "    </tr>\n",
       "    <tr>\n",
       "      <th>2997</th>\n",
       "      <td>0.590</td>\n",
       "      <td>0.475</td>\n",
       "      <td>0.160</td>\n",
       "      <td>0.9455</td>\n",
       "      <td>0.3815</td>\n",
       "      <td>0.184000</td>\n",
       "      <td>0.270</td>\n",
       "    </tr>\n",
       "    <tr>\n",
       "      <th>2998</th>\n",
       "      <td>0.605</td>\n",
       "      <td>0.495</td>\n",
       "      <td>0.170</td>\n",
       "      <td>1.2385</td>\n",
       "      <td>0.5280</td>\n",
       "      <td>0.246500</td>\n",
       "      <td>0.390</td>\n",
       "    </tr>\n",
       "    <tr>\n",
       "      <th>2999</th>\n",
       "      <td>0.660</td>\n",
       "      <td>0.500</td>\n",
       "      <td>0.165</td>\n",
       "      <td>1.3195</td>\n",
       "      <td>0.6670</td>\n",
       "      <td>0.269000</td>\n",
       "      <td>0.341</td>\n",
       "    </tr>\n",
       "  </tbody>\n",
       "</table>\n",
       "<p>3000 rows × 7 columns</p>\n",
       "</div>"
      ],
      "text/plain": [
       "          L      D      H      WW      SW        VW    SlW\n",
       "0     0.455  0.375  0.125  0.5330  0.2330  0.106000  0.185\n",
       "1     0.630  0.490  0.155  1.2525  0.6300  0.246000  0.289\n",
       "2     0.690  0.545  0.200  1.5515  0.5660  0.379525  0.445\n",
       "3     0.430  0.320  0.100  0.3855  0.1920  0.074500  0.100\n",
       "4     0.420  0.320  0.110  0.3625  0.1740  0.063500  0.105\n",
       "...     ...    ...    ...     ...     ...       ...    ...\n",
       "2995  0.575  0.485  0.165  1.0405  0.4190  0.264000  0.300\n",
       "2996  0.515  0.370  0.115  0.6145  0.3415  0.155000  0.146\n",
       "2997  0.590  0.475  0.160  0.9455  0.3815  0.184000  0.270\n",
       "2998  0.605  0.495  0.170  1.2385  0.5280  0.246500  0.390\n",
       "2999  0.660  0.500  0.165  1.3195  0.6670  0.269000  0.341\n",
       "\n",
       "[3000 rows x 7 columns]"
      ]
     },
     "execution_count": 43,
     "metadata": {},
     "output_type": "execute_result"
    }
   ],
   "source": [
    "x"
   ]
  },
  {
   "cell_type": "code",
   "execution_count": 44,
   "id": "f8f1eab6",
   "metadata": {},
   "outputs": [
    {
     "data": {
      "text/plain": [
       "array([['Young'],\n",
       "       ['middle'],\n",
       "       ['old'],\n",
       "       ...,\n",
       "       ['old'],\n",
       "       ['old'],\n",
       "       ['middle']], dtype=object)"
      ]
     },
     "execution_count": 44,
     "metadata": {},
     "output_type": "execute_result"
    }
   ],
   "source": [
    "y"
   ]
  },
  {
   "cell_type": "code",
   "execution_count": 45,
   "id": "e58eb64d",
   "metadata": {},
   "outputs": [],
   "source": [
    "x_train, x_test, y_train, y_test = train_test_split(x, y, test_size=0.2, random_state=0)"
   ]
  },
  {
   "cell_type": "code",
   "execution_count": 46,
   "id": "8536f257",
   "metadata": {},
   "outputs": [
    {
     "data": {
      "text/html": [
       "<div>\n",
       "<style scoped>\n",
       "    .dataframe tbody tr th:only-of-type {\n",
       "        vertical-align: middle;\n",
       "    }\n",
       "\n",
       "    .dataframe tbody tr th {\n",
       "        vertical-align: top;\n",
       "    }\n",
       "\n",
       "    .dataframe thead th {\n",
       "        text-align: right;\n",
       "    }\n",
       "</style>\n",
       "<table border=\"1\" class=\"dataframe\">\n",
       "  <thead>\n",
       "    <tr style=\"text-align: right;\">\n",
       "      <th></th>\n",
       "      <th>L</th>\n",
       "      <th>D</th>\n",
       "      <th>H</th>\n",
       "      <th>WW</th>\n",
       "      <th>SW</th>\n",
       "      <th>VW</th>\n",
       "      <th>SlW</th>\n",
       "    </tr>\n",
       "  </thead>\n",
       "  <tbody>\n",
       "    <tr>\n",
       "      <th>2370</th>\n",
       "      <td>0.385</td>\n",
       "      <td>0.285</td>\n",
       "      <td>0.105</td>\n",
       "      <td>0.2905</td>\n",
       "      <td>0.1215</td>\n",
       "      <td>0.0685</td>\n",
       "      <td>0.08750</td>\n",
       "    </tr>\n",
       "    <tr>\n",
       "      <th>1774</th>\n",
       "      <td>0.340</td>\n",
       "      <td>0.260</td>\n",
       "      <td>0.085</td>\n",
       "      <td>0.1885</td>\n",
       "      <td>0.0815</td>\n",
       "      <td>0.0335</td>\n",
       "      <td>0.06000</td>\n",
       "    </tr>\n",
       "    <tr>\n",
       "      <th>731</th>\n",
       "      <td>0.625</td>\n",
       "      <td>0.495</td>\n",
       "      <td>0.155</td>\n",
       "      <td>1.1770</td>\n",
       "      <td>0.5055</td>\n",
       "      <td>0.2780</td>\n",
       "      <td>0.34500</td>\n",
       "    </tr>\n",
       "    <tr>\n",
       "      <th>271</th>\n",
       "      <td>0.605</td>\n",
       "      <td>0.475</td>\n",
       "      <td>0.175</td>\n",
       "      <td>1.2010</td>\n",
       "      <td>0.5395</td>\n",
       "      <td>0.2750</td>\n",
       "      <td>0.30900</td>\n",
       "    </tr>\n",
       "    <tr>\n",
       "      <th>1077</th>\n",
       "      <td>0.465</td>\n",
       "      <td>0.360</td>\n",
       "      <td>0.080</td>\n",
       "      <td>0.4880</td>\n",
       "      <td>0.1910</td>\n",
       "      <td>0.1250</td>\n",
       "      <td>0.15500</td>\n",
       "    </tr>\n",
       "    <tr>\n",
       "      <th>...</th>\n",
       "      <td>...</td>\n",
       "      <td>...</td>\n",
       "      <td>...</td>\n",
       "      <td>...</td>\n",
       "      <td>...</td>\n",
       "      <td>...</td>\n",
       "      <td>...</td>\n",
       "    </tr>\n",
       "    <tr>\n",
       "      <th>763</th>\n",
       "      <td>0.475</td>\n",
       "      <td>0.365</td>\n",
       "      <td>0.115</td>\n",
       "      <td>0.4990</td>\n",
       "      <td>0.2320</td>\n",
       "      <td>0.0885</td>\n",
       "      <td>0.15600</td>\n",
       "    </tr>\n",
       "    <tr>\n",
       "      <th>835</th>\n",
       "      <td>0.600</td>\n",
       "      <td>0.495</td>\n",
       "      <td>0.185</td>\n",
       "      <td>1.1145</td>\n",
       "      <td>0.5055</td>\n",
       "      <td>0.2635</td>\n",
       "      <td>0.36700</td>\n",
       "    </tr>\n",
       "    <tr>\n",
       "      <th>1653</th>\n",
       "      <td>0.690</td>\n",
       "      <td>0.545</td>\n",
       "      <td>0.200</td>\n",
       "      <td>1.4685</td>\n",
       "      <td>0.4715</td>\n",
       "      <td>0.3235</td>\n",
       "      <td>0.48215</td>\n",
       "    </tr>\n",
       "    <tr>\n",
       "      <th>2607</th>\n",
       "      <td>0.585</td>\n",
       "      <td>0.450</td>\n",
       "      <td>0.150</td>\n",
       "      <td>0.9970</td>\n",
       "      <td>0.4055</td>\n",
       "      <td>0.2830</td>\n",
       "      <td>0.25100</td>\n",
       "    </tr>\n",
       "    <tr>\n",
       "      <th>2732</th>\n",
       "      <td>0.350</td>\n",
       "      <td>0.275</td>\n",
       "      <td>0.110</td>\n",
       "      <td>0.2925</td>\n",
       "      <td>0.1225</td>\n",
       "      <td>0.0635</td>\n",
       "      <td>0.09050</td>\n",
       "    </tr>\n",
       "  </tbody>\n",
       "</table>\n",
       "<p>2400 rows × 7 columns</p>\n",
       "</div>"
      ],
      "text/plain": [
       "          L      D      H      WW      SW      VW      SlW\n",
       "2370  0.385  0.285  0.105  0.2905  0.1215  0.0685  0.08750\n",
       "1774  0.340  0.260  0.085  0.1885  0.0815  0.0335  0.06000\n",
       "731   0.625  0.495  0.155  1.1770  0.5055  0.2780  0.34500\n",
       "271   0.605  0.475  0.175  1.2010  0.5395  0.2750  0.30900\n",
       "1077  0.465  0.360  0.080  0.4880  0.1910  0.1250  0.15500\n",
       "...     ...    ...    ...     ...     ...     ...      ...\n",
       "763   0.475  0.365  0.115  0.4990  0.2320  0.0885  0.15600\n",
       "835   0.600  0.495  0.185  1.1145  0.5055  0.2635  0.36700\n",
       "1653  0.690  0.545  0.200  1.4685  0.4715  0.3235  0.48215\n",
       "2607  0.585  0.450  0.150  0.9970  0.4055  0.2830  0.25100\n",
       "2732  0.350  0.275  0.110  0.2925  0.1225  0.0635  0.09050\n",
       "\n",
       "[2400 rows x 7 columns]"
      ]
     },
     "execution_count": 46,
     "metadata": {},
     "output_type": "execute_result"
    }
   ],
   "source": [
    "x_train"
   ]
  },
  {
   "cell_type": "code",
   "execution_count": 47,
   "id": "0a0f59ec",
   "metadata": {},
   "outputs": [
    {
     "data": {
      "text/html": [
       "<div>\n",
       "<style scoped>\n",
       "    .dataframe tbody tr th:only-of-type {\n",
       "        vertical-align: middle;\n",
       "    }\n",
       "\n",
       "    .dataframe tbody tr th {\n",
       "        vertical-align: top;\n",
       "    }\n",
       "\n",
       "    .dataframe thead th {\n",
       "        text-align: right;\n",
       "    }\n",
       "</style>\n",
       "<table border=\"1\" class=\"dataframe\">\n",
       "  <thead>\n",
       "    <tr style=\"text-align: right;\">\n",
       "      <th></th>\n",
       "      <th>L</th>\n",
       "      <th>D</th>\n",
       "      <th>H</th>\n",
       "      <th>WW</th>\n",
       "      <th>SW</th>\n",
       "      <th>VW</th>\n",
       "      <th>SlW</th>\n",
       "    </tr>\n",
       "  </thead>\n",
       "  <tbody>\n",
       "    <tr>\n",
       "      <th>311</th>\n",
       "      <td>0.690</td>\n",
       "      <td>0.545</td>\n",
       "      <td>0.200</td>\n",
       "      <td>1.6916</td>\n",
       "      <td>0.74555</td>\n",
       "      <td>0.379525</td>\n",
       "      <td>0.48215</td>\n",
       "    </tr>\n",
       "    <tr>\n",
       "      <th>1025</th>\n",
       "      <td>0.610</td>\n",
       "      <td>0.480</td>\n",
       "      <td>0.150</td>\n",
       "      <td>1.2000</td>\n",
       "      <td>0.56000</td>\n",
       "      <td>0.245500</td>\n",
       "      <td>0.28000</td>\n",
       "    </tr>\n",
       "    <tr>\n",
       "      <th>1587</th>\n",
       "      <td>0.470</td>\n",
       "      <td>0.365</td>\n",
       "      <td>0.120</td>\n",
       "      <td>0.5820</td>\n",
       "      <td>0.29000</td>\n",
       "      <td>0.092000</td>\n",
       "      <td>0.14600</td>\n",
       "    </tr>\n",
       "    <tr>\n",
       "      <th>2941</th>\n",
       "      <td>0.425</td>\n",
       "      <td>0.340</td>\n",
       "      <td>0.100</td>\n",
       "      <td>0.3820</td>\n",
       "      <td>0.16400</td>\n",
       "      <td>0.096000</td>\n",
       "      <td>0.10000</td>\n",
       "    </tr>\n",
       "    <tr>\n",
       "      <th>2980</th>\n",
       "      <td>0.530</td>\n",
       "      <td>0.410</td>\n",
       "      <td>0.155</td>\n",
       "      <td>0.7155</td>\n",
       "      <td>0.28050</td>\n",
       "      <td>0.168500</td>\n",
       "      <td>0.21400</td>\n",
       "    </tr>\n",
       "    <tr>\n",
       "      <th>...</th>\n",
       "      <td>...</td>\n",
       "      <td>...</td>\n",
       "      <td>...</td>\n",
       "      <td>...</td>\n",
       "      <td>...</td>\n",
       "      <td>...</td>\n",
       "      <td>...</td>\n",
       "    </tr>\n",
       "    <tr>\n",
       "      <th>913</th>\n",
       "      <td>0.690</td>\n",
       "      <td>0.545</td>\n",
       "      <td>0.190</td>\n",
       "      <td>1.4940</td>\n",
       "      <td>0.58800</td>\n",
       "      <td>0.342500</td>\n",
       "      <td>0.48215</td>\n",
       "    </tr>\n",
       "    <tr>\n",
       "      <th>1431</th>\n",
       "      <td>0.410</td>\n",
       "      <td>0.310</td>\n",
       "      <td>0.090</td>\n",
       "      <td>0.3390</td>\n",
       "      <td>0.15500</td>\n",
       "      <td>0.069500</td>\n",
       "      <td>0.09000</td>\n",
       "    </tr>\n",
       "    <tr>\n",
       "      <th>654</th>\n",
       "      <td>0.450</td>\n",
       "      <td>0.355</td>\n",
       "      <td>0.105</td>\n",
       "      <td>0.4445</td>\n",
       "      <td>0.19700</td>\n",
       "      <td>0.093000</td>\n",
       "      <td>0.13350</td>\n",
       "    </tr>\n",
       "    <tr>\n",
       "      <th>476</th>\n",
       "      <td>0.690</td>\n",
       "      <td>0.545</td>\n",
       "      <td>0.195</td>\n",
       "      <td>1.6916</td>\n",
       "      <td>0.74555</td>\n",
       "      <td>0.376500</td>\n",
       "      <td>0.48215</td>\n",
       "    </tr>\n",
       "    <tr>\n",
       "      <th>2326</th>\n",
       "      <td>0.690</td>\n",
       "      <td>0.545</td>\n",
       "      <td>0.180</td>\n",
       "      <td>1.6916</td>\n",
       "      <td>0.74555</td>\n",
       "      <td>0.353500</td>\n",
       "      <td>0.48215</td>\n",
       "    </tr>\n",
       "  </tbody>\n",
       "</table>\n",
       "<p>600 rows × 7 columns</p>\n",
       "</div>"
      ],
      "text/plain": [
       "          L      D      H      WW       SW        VW      SlW\n",
       "311   0.690  0.545  0.200  1.6916  0.74555  0.379525  0.48215\n",
       "1025  0.610  0.480  0.150  1.2000  0.56000  0.245500  0.28000\n",
       "1587  0.470  0.365  0.120  0.5820  0.29000  0.092000  0.14600\n",
       "2941  0.425  0.340  0.100  0.3820  0.16400  0.096000  0.10000\n",
       "2980  0.530  0.410  0.155  0.7155  0.28050  0.168500  0.21400\n",
       "...     ...    ...    ...     ...      ...       ...      ...\n",
       "913   0.690  0.545  0.190  1.4940  0.58800  0.342500  0.48215\n",
       "1431  0.410  0.310  0.090  0.3390  0.15500  0.069500  0.09000\n",
       "654   0.450  0.355  0.105  0.4445  0.19700  0.093000  0.13350\n",
       "476   0.690  0.545  0.195  1.6916  0.74555  0.376500  0.48215\n",
       "2326  0.690  0.545  0.180  1.6916  0.74555  0.353500  0.48215\n",
       "\n",
       "[600 rows x 7 columns]"
      ]
     },
     "execution_count": 47,
     "metadata": {},
     "output_type": "execute_result"
    }
   ],
   "source": [
    "x_test"
   ]
  },
  {
   "cell_type": "code",
   "execution_count": 48,
   "id": "e481ea5d",
   "metadata": {},
   "outputs": [
    {
     "data": {
      "text/plain": [
       "array([['middle'],\n",
       "       ['Young'],\n",
       "       ['middle'],\n",
       "       ...,\n",
       "       ['old'],\n",
       "       ['middle'],\n",
       "       ['Young']], dtype=object)"
      ]
     },
     "execution_count": 48,
     "metadata": {},
     "output_type": "execute_result"
    }
   ],
   "source": [
    "y_train"
   ]
  },
  {
   "cell_type": "code",
   "execution_count": 49,
   "id": "c5db8bea",
   "metadata": {},
   "outputs": [
    {
     "data": {
      "text/plain": [
       "array([['middle'],\n",
       "       ['old'],\n",
       "       ['Young'],\n",
       "       ['Young'],\n",
       "       ['middle'],\n",
       "       ['Young'],\n",
       "       ['Young'],\n",
       "       ['Young'],\n",
       "       ['old'],\n",
       "       ['middle'],\n",
       "       ['Young'],\n",
       "       ['Young'],\n",
       "       ['Young'],\n",
       "       ['Young'],\n",
       "       ['middle'],\n",
       "       ['middle'],\n",
       "       ['Young'],\n",
       "       ['Young'],\n",
       "       ['Young'],\n",
       "       ['Young'],\n",
       "       ['old'],\n",
       "       ['middle'],\n",
       "       ['middle'],\n",
       "       ['middle'],\n",
       "       ['Young'],\n",
       "       ['middle'],\n",
       "       ['Young'],\n",
       "       ['middle'],\n",
       "       ['middle'],\n",
       "       ['middle'],\n",
       "       ['Young'],\n",
       "       ['middle'],\n",
       "       ['middle'],\n",
       "       ['middle'],\n",
       "       ['Young'],\n",
       "       ['old'],\n",
       "       ['middle'],\n",
       "       ['middle'],\n",
       "       ['middle'],\n",
       "       ['middle'],\n",
       "       ['Young'],\n",
       "       ['Young'],\n",
       "       ['middle'],\n",
       "       ['Young'],\n",
       "       ['Young'],\n",
       "       ['Young'],\n",
       "       ['middle'],\n",
       "       ['Young'],\n",
       "       ['middle'],\n",
       "       ['middle'],\n",
       "       ['Young'],\n",
       "       ['Young'],\n",
       "       ['middle'],\n",
       "       ['middle'],\n",
       "       ['Young'],\n",
       "       ['Young'],\n",
       "       ['middle'],\n",
       "       ['middle'],\n",
       "       ['Young'],\n",
       "       ['old'],\n",
       "       ['middle'],\n",
       "       ['old'],\n",
       "       ['middle'],\n",
       "       ['old'],\n",
       "       ['middle'],\n",
       "       ['middle'],\n",
       "       ['middle'],\n",
       "       ['Young'],\n",
       "       ['middle'],\n",
       "       ['Young'],\n",
       "       ['Young'],\n",
       "       ['middle'],\n",
       "       ['middle'],\n",
       "       ['middle'],\n",
       "       ['Young'],\n",
       "       ['middle'],\n",
       "       ['Young'],\n",
       "       ['middle'],\n",
       "       ['Young'],\n",
       "       ['middle'],\n",
       "       ['Young'],\n",
       "       ['middle'],\n",
       "       ['Young'],\n",
       "       ['Young'],\n",
       "       ['middle'],\n",
       "       ['old'],\n",
       "       ['old'],\n",
       "       ['middle'],\n",
       "       ['middle'],\n",
       "       ['Young'],\n",
       "       ['middle'],\n",
       "       ['Young'],\n",
       "       ['Young'],\n",
       "       ['Young'],\n",
       "       ['Young'],\n",
       "       ['middle'],\n",
       "       ['Young'],\n",
       "       ['middle'],\n",
       "       ['old'],\n",
       "       ['Young'],\n",
       "       ['old'],\n",
       "       ['middle'],\n",
       "       ['middle'],\n",
       "       ['middle'],\n",
       "       ['middle'],\n",
       "       ['middle'],\n",
       "       ['middle'],\n",
       "       ['Young'],\n",
       "       ['middle'],\n",
       "       ['Young'],\n",
       "       ['middle'],\n",
       "       ['old'],\n",
       "       ['old'],\n",
       "       ['old'],\n",
       "       ['Young'],\n",
       "       ['old'],\n",
       "       ['middle'],\n",
       "       ['middle'],\n",
       "       ['middle'],\n",
       "       ['old'],\n",
       "       ['old'],\n",
       "       ['middle'],\n",
       "       ['middle'],\n",
       "       ['old'],\n",
       "       ['middle'],\n",
       "       ['middle'],\n",
       "       ['Young'],\n",
       "       ['Young'],\n",
       "       ['old'],\n",
       "       ['Young'],\n",
       "       ['old'],\n",
       "       ['Young'],\n",
       "       ['middle'],\n",
       "       ['middle'],\n",
       "       ['Young'],\n",
       "       ['middle'],\n",
       "       ['Young'],\n",
       "       ['middle'],\n",
       "       ['Young'],\n",
       "       ['middle'],\n",
       "       ['middle'],\n",
       "       ['middle'],\n",
       "       ['middle'],\n",
       "       ['Young'],\n",
       "       ['middle'],\n",
       "       ['Young'],\n",
       "       ['Young'],\n",
       "       ['Young'],\n",
       "       ['middle'],\n",
       "       ['old'],\n",
       "       ['middle'],\n",
       "       ['Young'],\n",
       "       ['Young'],\n",
       "       ['middle'],\n",
       "       ['middle'],\n",
       "       ['middle'],\n",
       "       ['old'],\n",
       "       ['middle'],\n",
       "       ['middle'],\n",
       "       ['old'],\n",
       "       ['middle'],\n",
       "       ['middle'],\n",
       "       ['old'],\n",
       "       ['Young'],\n",
       "       ['Young'],\n",
       "       ['middle'],\n",
       "       ['Young'],\n",
       "       ['old'],\n",
       "       ['Young'],\n",
       "       ['Young'],\n",
       "       ['middle'],\n",
       "       ['old'],\n",
       "       ['old'],\n",
       "       ['old'],\n",
       "       ['middle'],\n",
       "       ['Young'],\n",
       "       ['middle'],\n",
       "       ['middle'],\n",
       "       ['Young'],\n",
       "       ['middle'],\n",
       "       ['middle'],\n",
       "       ['middle'],\n",
       "       ['middle'],\n",
       "       ['middle'],\n",
       "       ['Young'],\n",
       "       ['middle'],\n",
       "       ['middle'],\n",
       "       ['Young'],\n",
       "       ['Young'],\n",
       "       ['Young'],\n",
       "       ['old'],\n",
       "       ['old'],\n",
       "       ['middle'],\n",
       "       ['Young'],\n",
       "       ['middle'],\n",
       "       ['middle'],\n",
       "       ['middle'],\n",
       "       ['Young'],\n",
       "       ['Young'],\n",
       "       ['middle'],\n",
       "       ['old'],\n",
       "       ['old'],\n",
       "       ['middle'],\n",
       "       ['Young'],\n",
       "       ['old'],\n",
       "       ['Young'],\n",
       "       ['old'],\n",
       "       ['Young'],\n",
       "       ['middle'],\n",
       "       ['middle'],\n",
       "       ['middle'],\n",
       "       ['Young'],\n",
       "       ['Young'],\n",
       "       ['middle'],\n",
       "       ['Young'],\n",
       "       ['middle'],\n",
       "       ['middle'],\n",
       "       ['middle'],\n",
       "       ['middle'],\n",
       "       ['middle'],\n",
       "       ['middle'],\n",
       "       ['Young'],\n",
       "       ['middle'],\n",
       "       ['Young'],\n",
       "       ['middle'],\n",
       "       ['middle'],\n",
       "       ['middle'],\n",
       "       ['middle'],\n",
       "       ['middle'],\n",
       "       ['Young'],\n",
       "       ['middle'],\n",
       "       ['Young'],\n",
       "       ['Young'],\n",
       "       ['Young'],\n",
       "       ['Young'],\n",
       "       ['middle'],\n",
       "       ['Young'],\n",
       "       ['Young'],\n",
       "       ['Young'],\n",
       "       ['Young'],\n",
       "       ['middle'],\n",
       "       ['middle'],\n",
       "       ['middle'],\n",
       "       ['middle'],\n",
       "       ['middle'],\n",
       "       ['middle'],\n",
       "       ['middle'],\n",
       "       ['old'],\n",
       "       ['Young'],\n",
       "       ['Young'],\n",
       "       ['old'],\n",
       "       ['Young'],\n",
       "       ['middle'],\n",
       "       ['middle'],\n",
       "       ['Young'],\n",
       "       ['old'],\n",
       "       ['Young'],\n",
       "       ['middle'],\n",
       "       ['old'],\n",
       "       ['old'],\n",
       "       ['middle'],\n",
       "       ['Young'],\n",
       "       ['middle'],\n",
       "       ['Young'],\n",
       "       ['Young'],\n",
       "       ['middle'],\n",
       "       ['middle'],\n",
       "       ['Young'],\n",
       "       ['middle'],\n",
       "       ['middle'],\n",
       "       ['Young'],\n",
       "       ['middle'],\n",
       "       ['middle'],\n",
       "       ['middle'],\n",
       "       ['Young'],\n",
       "       ['middle'],\n",
       "       ['Young'],\n",
       "       ['Young'],\n",
       "       ['middle'],\n",
       "       ['middle'],\n",
       "       ['old'],\n",
       "       ['Young'],\n",
       "       ['Young'],\n",
       "       ['Young'],\n",
       "       ['middle'],\n",
       "       ['Young'],\n",
       "       ['middle'],\n",
       "       ['old'],\n",
       "       ['Young'],\n",
       "       ['Young'],\n",
       "       ['Young'],\n",
       "       ['middle'],\n",
       "       ['middle'],\n",
       "       ['old'],\n",
       "       ['middle'],\n",
       "       ['Young'],\n",
       "       ['middle'],\n",
       "       ['middle'],\n",
       "       ['old'],\n",
       "       ['middle'],\n",
       "       ['old'],\n",
       "       ['middle'],\n",
       "       ['old'],\n",
       "       ['middle'],\n",
       "       ['Young'],\n",
       "       ['Young'],\n",
       "       ['old'],\n",
       "       ['middle'],\n",
       "       ['middle'],\n",
       "       ['old'],\n",
       "       ['middle'],\n",
       "       ['middle'],\n",
       "       ['middle'],\n",
       "       ['old'],\n",
       "       ['middle'],\n",
       "       ['Young'],\n",
       "       ['middle'],\n",
       "       ['middle'],\n",
       "       ['middle'],\n",
       "       ['middle'],\n",
       "       ['middle'],\n",
       "       ['middle'],\n",
       "       ['middle'],\n",
       "       ['Young'],\n",
       "       ['Young'],\n",
       "       ['Young'],\n",
       "       ['middle'],\n",
       "       ['middle'],\n",
       "       ['old'],\n",
       "       ['old'],\n",
       "       ['middle'],\n",
       "       ['middle'],\n",
       "       ['middle'],\n",
       "       ['middle'],\n",
       "       ['middle'],\n",
       "       ['middle'],\n",
       "       ['middle'],\n",
       "       ['middle'],\n",
       "       ['middle'],\n",
       "       ['middle'],\n",
       "       ['middle'],\n",
       "       ['Young'],\n",
       "       ['old'],\n",
       "       ['old'],\n",
       "       ['Young'],\n",
       "       ['Young'],\n",
       "       ['middle'],\n",
       "       ['middle'],\n",
       "       ['middle'],\n",
       "       ['Young'],\n",
       "       ['Young'],\n",
       "       ['Young'],\n",
       "       ['Young'],\n",
       "       ['old'],\n",
       "       ['old'],\n",
       "       ['middle'],\n",
       "       ['middle'],\n",
       "       ['middle'],\n",
       "       ['middle'],\n",
       "       ['middle'],\n",
       "       ['old'],\n",
       "       ['Young'],\n",
       "       ['old'],\n",
       "       ['Young'],\n",
       "       ['Young'],\n",
       "       ['Young'],\n",
       "       ['middle'],\n",
       "       ['old'],\n",
       "       ['Young'],\n",
       "       ['old'],\n",
       "       ['Young'],\n",
       "       ['middle'],\n",
       "       ['Young'],\n",
       "       ['middle'],\n",
       "       ['old'],\n",
       "       ['Young'],\n",
       "       ['middle'],\n",
       "       ['middle'],\n",
       "       ['middle'],\n",
       "       ['old'],\n",
       "       ['middle'],\n",
       "       ['old'],\n",
       "       ['middle'],\n",
       "       ['Young'],\n",
       "       ['middle'],\n",
       "       ['middle'],\n",
       "       ['old'],\n",
       "       ['Young'],\n",
       "       ['Young'],\n",
       "       ['Young'],\n",
       "       ['middle'],\n",
       "       ['Young'],\n",
       "       ['Young'],\n",
       "       ['middle'],\n",
       "       ['middle'],\n",
       "       ['old'],\n",
       "       ['Young'],\n",
       "       ['middle'],\n",
       "       ['Young'],\n",
       "       ['Young'],\n",
       "       ['Young'],\n",
       "       ['middle'],\n",
       "       ['middle'],\n",
       "       ['middle'],\n",
       "       ['Young'],\n",
       "       ['middle'],\n",
       "       ['old'],\n",
       "       ['middle'],\n",
       "       ['middle'],\n",
       "       ['old'],\n",
       "       ['Young'],\n",
       "       ['middle'],\n",
       "       ['middle'],\n",
       "       ['middle'],\n",
       "       ['middle'],\n",
       "       ['Young'],\n",
       "       ['middle'],\n",
       "       ['middle'],\n",
       "       ['Young'],\n",
       "       ['middle'],\n",
       "       ['middle'],\n",
       "       ['Young'],\n",
       "       ['middle'],\n",
       "       ['middle'],\n",
       "       ['Young'],\n",
       "       ['middle'],\n",
       "       ['old'],\n",
       "       ['Young'],\n",
       "       ['middle'],\n",
       "       ['middle'],\n",
       "       ['Young'],\n",
       "       ['middle'],\n",
       "       ['middle'],\n",
       "       ['middle'],\n",
       "       ['middle'],\n",
       "       ['middle'],\n",
       "       ['old'],\n",
       "       ['old'],\n",
       "       ['middle'],\n",
       "       ['Young'],\n",
       "       ['middle'],\n",
       "       ['middle'],\n",
       "       ['old'],\n",
       "       ['Young'],\n",
       "       ['old'],\n",
       "       ['middle'],\n",
       "       ['Young'],\n",
       "       ['old'],\n",
       "       ['Young'],\n",
       "       ['middle'],\n",
       "       ['middle'],\n",
       "       ['Young'],\n",
       "       ['Young'],\n",
       "       ['old'],\n",
       "       ['middle'],\n",
       "       ['Young'],\n",
       "       ['Young'],\n",
       "       ['Young'],\n",
       "       ['Young'],\n",
       "       ['old'],\n",
       "       ['old'],\n",
       "       ['Young'],\n",
       "       ['middle'],\n",
       "       ['Young'],\n",
       "       ['middle'],\n",
       "       ['middle'],\n",
       "       ['Young'],\n",
       "       ['middle'],\n",
       "       ['Young'],\n",
       "       ['Young'],\n",
       "       ['Young'],\n",
       "       ['middle'],\n",
       "       ['old'],\n",
       "       ['Young'],\n",
       "       ['Young'],\n",
       "       ['middle'],\n",
       "       ['middle'],\n",
       "       ['middle'],\n",
       "       ['Young'],\n",
       "       ['Young'],\n",
       "       ['old'],\n",
       "       ['middle'],\n",
       "       ['middle'],\n",
       "       ['middle'],\n",
       "       ['old'],\n",
       "       ['middle'],\n",
       "       ['middle'],\n",
       "       ['middle'],\n",
       "       ['old'],\n",
       "       ['middle'],\n",
       "       ['old'],\n",
       "       ['middle'],\n",
       "       ['middle'],\n",
       "       ['Young'],\n",
       "       ['old'],\n",
       "       ['middle'],\n",
       "       ['middle'],\n",
       "       ['middle'],\n",
       "       ['middle'],\n",
       "       ['Young'],\n",
       "       ['middle'],\n",
       "       ['middle'],\n",
       "       ['old'],\n",
       "       ['middle'],\n",
       "       ['middle'],\n",
       "       ['middle'],\n",
       "       ['old'],\n",
       "       ['old'],\n",
       "       ['middle'],\n",
       "       ['middle'],\n",
       "       ['Young'],\n",
       "       ['Young'],\n",
       "       ['middle'],\n",
       "       ['Young'],\n",
       "       ['middle'],\n",
       "       ['middle'],\n",
       "       ['old'],\n",
       "       ['middle'],\n",
       "       ['middle'],\n",
       "       ['middle'],\n",
       "       ['Young'],\n",
       "       ['old'],\n",
       "       ['Young'],\n",
       "       ['middle'],\n",
       "       ['old'],\n",
       "       ['middle'],\n",
       "       ['old'],\n",
       "       ['old'],\n",
       "       ['Young'],\n",
       "       ['Young'],\n",
       "       ['Young'],\n",
       "       ['Young'],\n",
       "       ['middle'],\n",
       "       ['Young'],\n",
       "       ['middle'],\n",
       "       ['middle'],\n",
       "       ['middle'],\n",
       "       ['Young'],\n",
       "       ['middle'],\n",
       "       ['middle'],\n",
       "       ['old'],\n",
       "       ['Young'],\n",
       "       ['middle'],\n",
       "       ['Young'],\n",
       "       ['middle'],\n",
       "       ['Young'],\n",
       "       ['middle'],\n",
       "       ['Young'],\n",
       "       ['middle'],\n",
       "       ['middle'],\n",
       "       ['Young'],\n",
       "       ['Young'],\n",
       "       ['Young'],\n",
       "       ['Young'],\n",
       "       ['old'],\n",
       "       ['Young'],\n",
       "       ['middle'],\n",
       "       ['middle'],\n",
       "       ['middle'],\n",
       "       ['Young'],\n",
       "       ['old'],\n",
       "       ['middle'],\n",
       "       ['middle'],\n",
       "       ['middle'],\n",
       "       ['middle'],\n",
       "       ['old'],\n",
       "       ['middle'],\n",
       "       ['middle'],\n",
       "       ['middle'],\n",
       "       ['middle'],\n",
       "       ['middle'],\n",
       "       ['middle'],\n",
       "       ['middle'],\n",
       "       ['middle'],\n",
       "       ['Young'],\n",
       "       ['Young'],\n",
       "       ['Young'],\n",
       "       ['Young'],\n",
       "       ['middle'],\n",
       "       ['old'],\n",
       "       ['Young'],\n",
       "       ['old'],\n",
       "       ['Young'],\n",
       "       ['middle'],\n",
       "       ['old'],\n",
       "       ['middle'],\n",
       "       ['middle'],\n",
       "       ['middle'],\n",
       "       ['middle'],\n",
       "       ['Young'],\n",
       "       ['middle'],\n",
       "       ['middle'],\n",
       "       ['Young'],\n",
       "       ['Young'],\n",
       "       ['Young'],\n",
       "       ['old'],\n",
       "       ['Young'],\n",
       "       ['Young'],\n",
       "       ['middle'],\n",
       "       ['middle']], dtype=object)"
      ]
     },
     "execution_count": 49,
     "metadata": {},
     "output_type": "execute_result"
    }
   ],
   "source": [
    "y_test"
   ]
  },
  {
   "cell_type": "code",
   "execution_count": 50,
   "id": "975498f4",
   "metadata": {},
   "outputs": [],
   "source": [
    "model=LogisticRegression(solver='liblinear')"
   ]
  },
  {
   "cell_type": "code",
   "execution_count": 81,
   "id": "b7c0e6f6",
   "metadata": {},
   "outputs": [
    {
     "data": {
      "text/plain": [
       "LogisticRegression(solver='liblinear')"
      ]
     },
     "execution_count": 81,
     "metadata": {},
     "output_type": "execute_result"
    }
   ],
   "source": [
    "model.fit(x_train,y_train.ravel())"
   ]
  },
  {
   "cell_type": "code",
   "execution_count": 52,
   "id": "560ec092",
   "metadata": {},
   "outputs": [],
   "source": [
    "y_pred=model.predict(x_test)"
   ]
  },
  {
   "cell_type": "code",
   "execution_count": 53,
   "id": "b598beb9",
   "metadata": {},
   "outputs": [
    {
     "name": "stdout",
     "output_type": "stream",
     "text": [
      "              precision    recall  f1-score   support\n",
      "\n",
      "       Young       0.70      0.80      0.75       206\n",
      "      middle       0.67      0.79      0.73       298\n",
      "         old       0.71      0.10      0.18        96\n",
      "\n",
      "    accuracy                           0.68       600\n",
      "   macro avg       0.70      0.56      0.55       600\n",
      "weighted avg       0.69      0.68      0.65       600\n",
      "\n"
     ]
    }
   ],
   "source": [
    "print(classification_report(y_test, y_pred))"
   ]
  },
  {
   "cell_type": "code",
   "execution_count": 54,
   "id": "cebc23d2",
   "metadata": {},
   "outputs": [
    {
     "name": "stdout",
     "output_type": "stream",
     "text": [
      "Accuracy: 0.6833333333333333\n"
     ]
    }
   ],
   "source": [
    "print(\"Accuracy:\",metrics.accuracy_score(y_test, y_pred))"
   ]
  },
  {
   "cell_type": "code",
   "execution_count": 82,
   "id": "5c5ba99a",
   "metadata": {},
   "outputs": [],
   "source": [
    "k=15\n",
    "\n",
    "model_2=KNeighborsClassifier(k)\n",
    "\n",
    "model_2.fit(x_train,y_train.ravel())\n",
    "\n",
    "y_pred=model_2.predict(x_test)"
   ]
  },
  {
   "cell_type": "code",
   "execution_count": 56,
   "id": "3cfbcbef",
   "metadata": {},
   "outputs": [
    {
     "name": "stdout",
     "output_type": "stream",
     "text": [
      "              precision    recall  f1-score   support\n",
      "\n",
      "       Young       0.74      0.79      0.77       206\n",
      "      middle       0.69      0.78      0.73       298\n",
      "         old       0.74      0.32      0.45        96\n",
      "\n",
      "    accuracy                           0.71       600\n",
      "   macro avg       0.72      0.63      0.65       600\n",
      "weighted avg       0.72      0.71      0.70       600\n",
      "\n"
     ]
    }
   ],
   "source": [
    "print(classification_report(y_test, y_pred))"
   ]
  },
  {
   "cell_type": "code",
   "execution_count": 57,
   "id": "92b65fe9",
   "metadata": {},
   "outputs": [
    {
     "name": "stdout",
     "output_type": "stream",
     "text": [
      "Accuracy is : 0.7116666666666667\n"
     ]
    }
   ],
   "source": [
    "print(\"Accuracy is :\",metrics.accuracy_score(y_test,y_pred))"
   ]
  },
  {
   "cell_type": "code",
   "execution_count": 58,
   "id": "feeb244e",
   "metadata": {},
   "outputs": [],
   "source": [
    "model_3=DecisionTreeClassifier(max_depth=5)\n",
    "\n",
    "model_3=model_3.fit(x_train,y_train)\n",
    "\n",
    "y_pred=model_3.predict(x_test)"
   ]
  },
  {
   "cell_type": "code",
   "execution_count": 59,
   "id": "f2a0e719",
   "metadata": {},
   "outputs": [
    {
     "name": "stdout",
     "output_type": "stream",
     "text": [
      "              precision    recall  f1-score   support\n",
      "\n",
      "       Young       0.74      0.73      0.74       206\n",
      "      middle       0.68      0.76      0.72       298\n",
      "         old       0.55      0.35      0.43        96\n",
      "\n",
      "    accuracy                           0.69       600\n",
      "   macro avg       0.66      0.62      0.63       600\n",
      "weighted avg       0.68      0.69      0.68       600\n",
      "\n"
     ]
    }
   ],
   "source": [
    "print(classification_report(y_test, y_pred))"
   ]
  },
  {
   "cell_type": "code",
   "execution_count": 60,
   "id": "5822e8df",
   "metadata": {},
   "outputs": [
    {
     "name": "stdout",
     "output_type": "stream",
     "text": [
      "Accuracy is : 0.6866666666666666\n"
     ]
    }
   ],
   "source": [
    "print(\"Accuracy is :\",metrics.accuracy_score(y_test,y_pred))"
   ]
  },
  {
   "cell_type": "code",
   "execution_count": 83,
   "id": "c5aba911",
   "metadata": {},
   "outputs": [],
   "source": [
    "model_4=RandomForestClassifier(max_depth=5, n_estimators=10,max_features=1)\n",
    "\n",
    "model_4=model_4.fit(x_train,y_train.ravel())\n",
    "\n",
    "y_pred=model_4.predict(x_test)"
   ]
  },
  {
   "cell_type": "code",
   "execution_count": 62,
   "id": "50298b65",
   "metadata": {},
   "outputs": [
    {
     "name": "stdout",
     "output_type": "stream",
     "text": [
      "              precision    recall  f1-score   support\n",
      "\n",
      "       Young       0.74      0.76      0.75       206\n",
      "      middle       0.64      0.83      0.73       298\n",
      "         old       0.60      0.03      0.06        96\n",
      "\n",
      "    accuracy                           0.68       600\n",
      "   macro avg       0.66      0.54      0.51       600\n",
      "weighted avg       0.67      0.68      0.63       600\n",
      "\n"
     ]
    }
   ],
   "source": [
    "print(classification_report(y_test, y_pred))"
   ]
  },
  {
   "cell_type": "code",
   "execution_count": 63,
   "id": "5d1f6aa1",
   "metadata": {},
   "outputs": [
    {
     "name": "stdout",
     "output_type": "stream",
     "text": [
      "Accuracy : 0.6783333333333333\n"
     ]
    }
   ],
   "source": [
    "print(\"Accuracy :\",metrics.accuracy_score(y_test,y_pred))"
   ]
  },
  {
   "cell_type": "code",
   "execution_count": 84,
   "id": "c4e8ba74",
   "metadata": {},
   "outputs": [
    {
     "name": "stdout",
     "output_type": "stream",
     "text": [
      "Model accuracy score with default hyperparameters: 0.7200\n"
     ]
    }
   ],
   "source": [
    "\n",
    "from sklearn.svm import SVC\n",
    "\n",
    "\n",
    "from sklearn.metrics import accuracy_score\n",
    "\n",
    "\n",
    "svc=SVC(gamma = 2, C=1000)\n",
    "\n",
    "\n",
    "svc.fit(x_train,y_train.ravel())\n",
    "\n",
    "\n",
    "y_pred=svc.predict(x_test)\n",
    "\n",
    "\n",
    "print('Model accuracy score with default hyperparameters: {0:0.4f}'. format(accuracy_score(y_test, y_pred)))"
   ]
  },
  {
   "cell_type": "code",
   "execution_count": 85,
   "id": "4e4a69fb",
   "metadata": {},
   "outputs": [
    {
     "name": "stdout",
     "output_type": "stream",
     "text": [
      "Model accuracy score with linear kernel and C=1.0 : 0.6900\n"
     ]
    }
   ],
   "source": [
    "linear_svc=SVC(kernel='linear', C=1.0)\n",
    "\n",
    "linear_svc.fit(x_train,y_train.ravel())\n",
    "\n",
    "y_pred_test=linear_svc.predict(x_test)\n",
    "\n",
    "print('Model accuracy score with linear kernel and C=1.0 : {0:0.4f}'. format(accuracy_score(y_test, y_pred_test)))"
   ]
  },
  {
   "cell_type": "code",
   "execution_count": 77,
   "id": "a619c958",
   "metadata": {},
   "outputs": [],
   "source": [
    "from sklearn.neural_network import MLPClassifier\n",
    "MLP = MLPClassifier(alpha=1, max_iter=1000)"
   ]
  },
  {
   "cell_type": "code",
   "execution_count": 86,
   "id": "b8c971d3",
   "metadata": {},
   "outputs": [],
   "source": [
    "MLP.fit(x_train, y_train.ravel())\n",
    "y_pred_test=MLP.predict(x_test)"
   ]
  },
  {
   "cell_type": "code",
   "execution_count": 87,
   "id": "67a6f979",
   "metadata": {},
   "outputs": [
    {
     "name": "stdout",
     "output_type": "stream",
     "text": [
      "Model accuracy score with NN: 0.6867\n"
     ]
    }
   ],
   "source": [
    "print('Model accuracy score with NN: {0:0.4f}'. format(accuracy_score(y_test, y_pred_test)))"
   ]
  },
  {
   "cell_type": "code",
   "execution_count": 90,
   "id": "67ff3001",
   "metadata": {},
   "outputs": [
    {
     "name": "stdout",
     "output_type": "stream",
     "text": [
      "Confusion Matrix \n",
      "\n"
     ]
    },
    {
     "data": {
      "image/png": "[encoded data removed]",
      "text/plain": [
       "<Figure size 432x288 with 2 Axes>"
      ]
     },
     "metadata": {
      "needs_background": "light"
     },
     "output_type": "display_data"
    },
    {
     "name": "stdout",
     "output_type": "stream",
     "text": [
      "\n",
      "\n"
     ]
    }
   ],
   "source": [
    "\n",
    "\n",
    "print(\"Confusion Matrix\",\"\\n\")\n",
    "score = round(accuracy_score(y_test, y_pred_test),3)\n",
    "cm1 = cm(y_test, y_pred_test)\n",
    "sb.heatmap(cm1, annot=True, fmt=\".1f\", linewidths=.3, \n",
    "            square = True, cmap = 'PuBu')\n",
    "plt.ylabel('Actual label')\n",
    "plt.xlabel('Predicted label')\n",
    "plt.title('Accuracy Score: {0}'.format(score), size = 12)\n",
    "plt.show()\n",
    "print(\"\\n\")\n",
    "\n"
   ]
  },
  {
   "cell_type": "code",
   "execution_count": 95,
   "id": "834311d3",
   "metadata": {},
   "outputs": [
    {
     "name": "stdout",
     "output_type": "stream",
     "text": [
      "Cohen Score 0.4507474314651604\n",
      "Matthew Score 0.464122665248289\n",
      "\n",
      "\n"
     ]
    }
   ],
   "source": [
    "print(\"Cohen Score\",cohen_kappa_score(y_test, y_pred_test))\n",
    "print(\"Matthew Score\",matthews_corrcoef(y_test, y_pred_test))\n",
    "print(\"\\n\")"
   ]
  },
  {
   "cell_type": "code",
   "execution_count": 99,
   "id": "714eff76",
   "metadata": {},
   "outputs": [],
   "source": [
    "#accuracies = cross_val_score(estimator = lr, X = x_train, y = y_train, cv = 10)\n",
    "#print(\"Accuracy (mean): %\",accuracies.mean()*100)\n",
    "#print(\"std: %\",accuracies.std()*100"
   ]
  },
  {
   "cell_type": "code",
   "execution_count": 100,
   "id": "44e337cb",
   "metadata": {},
   "outputs": [],
   "source": [
    "#scores = cross_val_score(lr, X_train, y_train, scoring='neg_mean_absolute_error', cv=10,)\n",
    "#print (\"MAE (mean): %\" , scores.mean())"
   ]
  },
  {
   "cell_type": "code",
   "execution_count": 101,
   "id": "3a986d2e",
   "metadata": {},
   "outputs": [],
   "source": [
    "#accuracies = cross_val_score(estimator = svc, x = x_train, y = y_train, cv = 10)\n",
    "#print(\"Accuracy (mean): %\",accuracies.mean()*100)\n",
    "#print(\"std: %\",accuracies.std()*100)\n",
    "\n",
    "#scores = cross_val_score(svc, x_train, y_train, scoring='neg_mean_absolute_error', cv=10,)\n",
    "#print (\"MAE (mean): %\" , scores.mean())\n",
    "#print(\"\\n\")\n"
   ]
  },
  {
   "cell_type": "code",
   "execution_count": null,
   "id": "f9dee4ed",
   "metadata": {},
   "outputs": [],
   "source": []
  }
 ],
 "metadata": {
  "kernelspec": {
   "display_name": "Python 3",
   "language": "python",
   "name": "python3"
  },
  "language_info": {
   "codemirror_mode": {
    "name": "ipython",
    "version": 3
   },
   "file_extension": ".py",
   "mimetype": "text/x-python",
   "name": "python",
   "nbconvert_exporter": "python",
   "pygments_lexer": "ipython3",
   "version": "3.8.8"
  }
 },
 "nbformat": 4,
 "nbformat_minor": 5
}
