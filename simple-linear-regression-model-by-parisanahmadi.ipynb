{
 "cells": [
  {
   "cell_type": "code",
   "execution_count": 1,
   "id": "5e8c5006",
   "metadata": {
    "execution": {
     "iopub.execute_input": "2022-04-21T11:14:53.243548Z",
     "iopub.status.busy": "2022-04-21T11:14:53.242953Z",
     "iopub.status.idle": "2022-04-21T11:14:54.655661Z",
     "shell.execute_reply": "2022-04-21T11:14:54.654658Z"
    },
    "papermill": {
     "duration": 1.453775,
     "end_time": "2022-04-21T11:14:54.658197",
     "exception": false,
     "start_time": "2022-04-21T11:14:53.204422",
     "status": "completed"
    },
    "tags": []
   },
   "outputs": [],
   "source": [
    "# This simple linear regression model wrote by Parisan_Ahmadi\n",
    "\n",
    "import pandas as pd   #library written for the Python programming language for data manipulation.\n",
    "import numpy as np #library used for working with arrays.\n",
    "import matplotlib.pyplot as plt #data visualization and graphical plotting library\n",
    "import seaborn as sb\n",
    "from sklearn.model_selection import train_test_split\n",
    "from sklearn.linear_model import LinearRegression\n",
    "from sklearn import metrics"
   ]
  },
  {
   "cell_type": "code",
   "execution_count": 2,
   "id": "439c8685",
   "metadata": {
    "execution": {
     "iopub.execute_input": "2022-04-21T11:14:54.732449Z",
     "iopub.status.busy": "2022-04-21T11:14:54.732098Z",
     "iopub.status.idle": "2022-04-21T11:14:54.764213Z",
     "shell.execute_reply": "2022-04-21T11:14:54.763433Z"
    },
    "papermill": {
     "duration": 0.072344,
     "end_time": "2022-04-21T11:14:54.766346",
     "exception": false,
     "start_time": "2022-04-21T11:14:54.694002",
     "status": "completed"
    },
    "tags": []
   },
   "outputs": [
    {
     "data": {
      "text/html": [
       "<div>\n",
       "<style scoped>\n",
       "    .dataframe tbody tr th:only-of-type {\n",
       "        vertical-align: middle;\n",
       "    }\n",
       "\n",
       "    .dataframe tbody tr th {\n",
       "        vertical-align: top;\n",
       "    }\n",
       "\n",
       "    .dataframe thead th {\n",
       "        text-align: right;\n",
       "    }\n",
       "</style>\n",
       "<table border=\"1\" class=\"dataframe\">\n",
       "  <thead>\n",
       "    <tr style=\"text-align: right;\">\n",
       "      <th></th>\n",
       "      <th>Height</th>\n",
       "      <th>Weight</th>\n",
       "    </tr>\n",
       "  </thead>\n",
       "  <tbody>\n",
       "    <tr>\n",
       "      <th>0</th>\n",
       "      <td>1.47</td>\n",
       "      <td>52.21</td>\n",
       "    </tr>\n",
       "    <tr>\n",
       "      <th>1</th>\n",
       "      <td>1.50</td>\n",
       "      <td>53.12</td>\n",
       "    </tr>\n",
       "    <tr>\n",
       "      <th>2</th>\n",
       "      <td>1.52</td>\n",
       "      <td>54.48</td>\n",
       "    </tr>\n",
       "    <tr>\n",
       "      <th>3</th>\n",
       "      <td>1.55</td>\n",
       "      <td>55.84</td>\n",
       "    </tr>\n",
       "    <tr>\n",
       "      <th>4</th>\n",
       "      <td>1.57</td>\n",
       "      <td>57.20</td>\n",
       "    </tr>\n",
       "    <tr>\n",
       "      <th>5</th>\n",
       "      <td>1.60</td>\n",
       "      <td>58.57</td>\n",
       "    </tr>\n",
       "    <tr>\n",
       "      <th>6</th>\n",
       "      <td>1.63</td>\n",
       "      <td>59.93</td>\n",
       "    </tr>\n",
       "    <tr>\n",
       "      <th>7</th>\n",
       "      <td>1.65</td>\n",
       "      <td>61.29</td>\n",
       "    </tr>\n",
       "    <tr>\n",
       "      <th>8</th>\n",
       "      <td>1.68</td>\n",
       "      <td>63.11</td>\n",
       "    </tr>\n",
       "    <tr>\n",
       "      <th>9</th>\n",
       "      <td>1.70</td>\n",
       "      <td>64.47</td>\n",
       "    </tr>\n",
       "    <tr>\n",
       "      <th>10</th>\n",
       "      <td>1.73</td>\n",
       "      <td>66.28</td>\n",
       "    </tr>\n",
       "    <tr>\n",
       "      <th>11</th>\n",
       "      <td>1.75</td>\n",
       "      <td>68.10</td>\n",
       "    </tr>\n",
       "    <tr>\n",
       "      <th>12</th>\n",
       "      <td>1.78</td>\n",
       "      <td>69.92</td>\n",
       "    </tr>\n",
       "    <tr>\n",
       "      <th>13</th>\n",
       "      <td>1.80</td>\n",
       "      <td>72.19</td>\n",
       "    </tr>\n",
       "    <tr>\n",
       "      <th>14</th>\n",
       "      <td>1.83</td>\n",
       "      <td>74.46</td>\n",
       "    </tr>\n",
       "  </tbody>\n",
       "</table>\n",
       "</div>"
      ],
      "text/plain": [
       "    Height  Weight\n",
       "0     1.47   52.21\n",
       "1     1.50   53.12\n",
       "2     1.52   54.48\n",
       "3     1.55   55.84\n",
       "4     1.57   57.20\n",
       "5     1.60   58.57\n",
       "6     1.63   59.93\n",
       "7     1.65   61.29\n",
       "8     1.68   63.11\n",
       "9     1.70   64.47\n",
       "10    1.73   66.28\n",
       "11    1.75   68.10\n",
       "12    1.78   69.92\n",
       "13    1.80   72.19\n",
       "14    1.83   74.46"
      ]
     },
     "execution_count": 2,
     "metadata": {},
     "output_type": "execute_result"
    }
   ],
   "source": [
    "data = pd.read_csv(\"../input/height-and-weight-simple-linear-regression/data.csv\")\n",
    "data"
   ]
  },
  {
   "cell_type": "code",
   "execution_count": 3,
   "id": "c1fd8a98",
   "metadata": {
    "execution": {
     "iopub.execute_input": "2022-04-21T11:14:54.841224Z",
     "iopub.status.busy": "2022-04-21T11:14:54.840908Z",
     "iopub.status.idle": "2022-04-21T11:14:54.851988Z",
     "shell.execute_reply": "2022-04-21T11:14:54.851372Z"
    },
    "papermill": {
     "duration": 0.050789,
     "end_time": "2022-04-21T11:14:54.853818",
     "exception": false,
     "start_time": "2022-04-21T11:14:54.803029",
     "status": "completed"
    },
    "tags": []
   },
   "outputs": [
    {
     "data": {
      "text/html": [
       "<div>\n",
       "<style scoped>\n",
       "    .dataframe tbody tr th:only-of-type {\n",
       "        vertical-align: middle;\n",
       "    }\n",
       "\n",
       "    .dataframe tbody tr th {\n",
       "        vertical-align: top;\n",
       "    }\n",
       "\n",
       "    .dataframe thead th {\n",
       "        text-align: right;\n",
       "    }\n",
       "</style>\n",
       "<table border=\"1\" class=\"dataframe\">\n",
       "  <thead>\n",
       "    <tr style=\"text-align: right;\">\n",
       "      <th></th>\n",
       "      <th>Height</th>\n",
       "      <th>Weight</th>\n",
       "    </tr>\n",
       "  </thead>\n",
       "  <tbody>\n",
       "    <tr>\n",
       "      <th>0</th>\n",
       "      <td>1.47</td>\n",
       "      <td>52.21</td>\n",
       "    </tr>\n",
       "    <tr>\n",
       "      <th>1</th>\n",
       "      <td>1.50</td>\n",
       "      <td>53.12</td>\n",
       "    </tr>\n",
       "    <tr>\n",
       "      <th>2</th>\n",
       "      <td>1.52</td>\n",
       "      <td>54.48</td>\n",
       "    </tr>\n",
       "    <tr>\n",
       "      <th>3</th>\n",
       "      <td>1.55</td>\n",
       "      <td>55.84</td>\n",
       "    </tr>\n",
       "    <tr>\n",
       "      <th>4</th>\n",
       "      <td>1.57</td>\n",
       "      <td>57.20</td>\n",
       "    </tr>\n",
       "    <tr>\n",
       "      <th>5</th>\n",
       "      <td>1.60</td>\n",
       "      <td>58.57</td>\n",
       "    </tr>\n",
       "    <tr>\n",
       "      <th>6</th>\n",
       "      <td>1.63</td>\n",
       "      <td>59.93</td>\n",
       "    </tr>\n",
       "    <tr>\n",
       "      <th>7</th>\n",
       "      <td>1.65</td>\n",
       "      <td>61.29</td>\n",
       "    </tr>\n",
       "    <tr>\n",
       "      <th>8</th>\n",
       "      <td>1.68</td>\n",
       "      <td>63.11</td>\n",
       "    </tr>\n",
       "    <tr>\n",
       "      <th>9</th>\n",
       "      <td>1.70</td>\n",
       "      <td>64.47</td>\n",
       "    </tr>\n",
       "    <tr>\n",
       "      <th>10</th>\n",
       "      <td>1.73</td>\n",
       "      <td>66.28</td>\n",
       "    </tr>\n",
       "    <tr>\n",
       "      <th>11</th>\n",
       "      <td>1.75</td>\n",
       "      <td>68.10</td>\n",
       "    </tr>\n",
       "    <tr>\n",
       "      <th>12</th>\n",
       "      <td>1.78</td>\n",
       "      <td>69.92</td>\n",
       "    </tr>\n",
       "    <tr>\n",
       "      <th>13</th>\n",
       "      <td>1.80</td>\n",
       "      <td>72.19</td>\n",
       "    </tr>\n",
       "    <tr>\n",
       "      <th>14</th>\n",
       "      <td>1.83</td>\n",
       "      <td>74.46</td>\n",
       "    </tr>\n",
       "  </tbody>\n",
       "</table>\n",
       "</div>"
      ],
      "text/plain": [
       "    Height  Weight\n",
       "0     1.47   52.21\n",
       "1     1.50   53.12\n",
       "2     1.52   54.48\n",
       "3     1.55   55.84\n",
       "4     1.57   57.20\n",
       "5     1.60   58.57\n",
       "6     1.63   59.93\n",
       "7     1.65   61.29\n",
       "8     1.68   63.11\n",
       "9     1.70   64.47\n",
       "10    1.73   66.28\n",
       "11    1.75   68.10\n",
       "12    1.78   69.92\n",
       "13    1.80   72.19\n",
       "14    1.83   74.46"
      ]
     },
     "execution_count": 3,
     "metadata": {},
     "output_type": "execute_result"
    }
   ],
   "source": [
    "df = pd.DataFrame(data)\n",
    "df"
   ]
  },
  {
   "cell_type": "code",
   "execution_count": 4,
   "id": "9fbe33de",
   "metadata": {
    "execution": {
     "iopub.execute_input": "2022-04-21T11:14:54.930795Z",
     "iopub.status.busy": "2022-04-21T11:14:54.930506Z",
     "iopub.status.idle": "2022-04-21T11:14:54.959153Z",
     "shell.execute_reply": "2022-04-21T11:14:54.958497Z"
    },
    "papermill": {
     "duration": 0.069236,
     "end_time": "2022-04-21T11:14:54.961441",
     "exception": false,
     "start_time": "2022-04-21T11:14:54.892205",
     "status": "completed"
    },
    "tags": []
   },
   "outputs": [
    {
     "data": {
      "text/html": [
       "<div>\n",
       "<style scoped>\n",
       "    .dataframe tbody tr th:only-of-type {\n",
       "        vertical-align: middle;\n",
       "    }\n",
       "\n",
       "    .dataframe tbody tr th {\n",
       "        vertical-align: top;\n",
       "    }\n",
       "\n",
       "    .dataframe thead th {\n",
       "        text-align: right;\n",
       "    }\n",
       "</style>\n",
       "<table border=\"1\" class=\"dataframe\">\n",
       "  <thead>\n",
       "    <tr style=\"text-align: right;\">\n",
       "      <th></th>\n",
       "      <th>Height</th>\n",
       "      <th>Weight</th>\n",
       "    </tr>\n",
       "  </thead>\n",
       "  <tbody>\n",
       "    <tr>\n",
       "      <th>count</th>\n",
       "      <td>15.000000</td>\n",
       "      <td>15.000000</td>\n",
       "    </tr>\n",
       "    <tr>\n",
       "      <th>mean</th>\n",
       "      <td>1.650667</td>\n",
       "      <td>62.078000</td>\n",
       "    </tr>\n",
       "    <tr>\n",
       "      <th>std</th>\n",
       "      <td>0.114235</td>\n",
       "      <td>7.037515</td>\n",
       "    </tr>\n",
       "    <tr>\n",
       "      <th>min</th>\n",
       "      <td>1.470000</td>\n",
       "      <td>52.210000</td>\n",
       "    </tr>\n",
       "    <tr>\n",
       "      <th>25%</th>\n",
       "      <td>1.560000</td>\n",
       "      <td>56.520000</td>\n",
       "    </tr>\n",
       "    <tr>\n",
       "      <th>50%</th>\n",
       "      <td>1.650000</td>\n",
       "      <td>61.290000</td>\n",
       "    </tr>\n",
       "    <tr>\n",
       "      <th>75%</th>\n",
       "      <td>1.740000</td>\n",
       "      <td>67.190000</td>\n",
       "    </tr>\n",
       "    <tr>\n",
       "      <th>max</th>\n",
       "      <td>1.830000</td>\n",
       "      <td>74.460000</td>\n",
       "    </tr>\n",
       "  </tbody>\n",
       "</table>\n",
       "</div>"
      ],
      "text/plain": [
       "          Height     Weight\n",
       "count  15.000000  15.000000\n",
       "mean    1.650667  62.078000\n",
       "std     0.114235   7.037515\n",
       "min     1.470000  52.210000\n",
       "25%     1.560000  56.520000\n",
       "50%     1.650000  61.290000\n",
       "75%     1.740000  67.190000\n",
       "max     1.830000  74.460000"
      ]
     },
     "execution_count": 4,
     "metadata": {},
     "output_type": "execute_result"
    }
   ],
   "source": [
    "df.describe()"
   ]
  },
  {
   "cell_type": "code",
   "execution_count": 5,
   "id": "10a998d1",
   "metadata": {
    "execution": {
     "iopub.execute_input": "2022-04-21T11:14:55.042958Z",
     "iopub.status.busy": "2022-04-21T11:14:55.042497Z",
     "iopub.status.idle": "2022-04-21T11:14:55.055244Z",
     "shell.execute_reply": "2022-04-21T11:14:55.054481Z"
    },
    "papermill": {
     "duration": 0.055325,
     "end_time": "2022-04-21T11:14:55.057198",
     "exception": false,
     "start_time": "2022-04-21T11:14:55.001873",
     "status": "completed"
    },
    "tags": []
   },
   "outputs": [
    {
     "data": {
      "text/plain": [
       "Height  Weight\n",
       "1.47    52.21     1\n",
       "1.50    53.12     1\n",
       "1.52    54.48     1\n",
       "1.55    55.84     1\n",
       "1.57    57.20     1\n",
       "1.60    58.57     1\n",
       "1.63    59.93     1\n",
       "1.65    61.29     1\n",
       "1.68    63.11     1\n",
       "1.70    64.47     1\n",
       "1.73    66.28     1\n",
       "1.75    68.10     1\n",
       "1.78    69.92     1\n",
       "1.80    72.19     1\n",
       "1.83    74.46     1\n",
       "dtype: int64"
      ]
     },
     "execution_count": 5,
     "metadata": {},
     "output_type": "execute_result"
    }
   ],
   "source": [
    "df.value_counts()"
   ]
  },
  {
   "cell_type": "code",
   "execution_count": 6,
   "id": "393bca0d",
   "metadata": {
    "execution": {
     "iopub.execute_input": "2022-04-21T11:14:55.134671Z",
     "iopub.status.busy": "2022-04-21T11:14:55.134192Z",
     "iopub.status.idle": "2022-04-21T11:14:55.141541Z",
     "shell.execute_reply": "2022-04-21T11:14:55.140868Z"
    },
    "papermill": {
     "duration": 0.048365,
     "end_time": "2022-04-21T11:14:55.143358",
     "exception": false,
     "start_time": "2022-04-21T11:14:55.094993",
     "status": "completed"
    },
    "tags": []
   },
   "outputs": [
    {
     "data": {
      "text/plain": [
       "Height    0\n",
       "Weight    0\n",
       "dtype: int64"
      ]
     },
     "execution_count": 6,
     "metadata": {},
     "output_type": "execute_result"
    }
   ],
   "source": [
    "df.isnull().sum()"
   ]
  },
  {
   "cell_type": "code",
   "execution_count": 7,
   "id": "7197d970",
   "metadata": {
    "execution": {
     "iopub.execute_input": "2022-04-21T11:14:55.223896Z",
     "iopub.status.busy": "2022-04-21T11:14:55.223619Z",
     "iopub.status.idle": "2022-04-21T11:14:55.229608Z",
     "shell.execute_reply": "2022-04-21T11:14:55.228870Z"
    },
    "papermill": {
     "duration": 0.050203,
     "end_time": "2022-04-21T11:14:55.231648",
     "exception": false,
     "start_time": "2022-04-21T11:14:55.181445",
     "status": "completed"
    },
    "tags": []
   },
   "outputs": [],
   "source": [
    "df.dropna(inplace=True)"
   ]
  },
  {
   "cell_type": "code",
   "execution_count": 8,
   "id": "2ab3866a",
   "metadata": {
    "execution": {
     "iopub.execute_input": "2022-04-21T11:14:55.311020Z",
     "iopub.status.busy": "2022-04-21T11:14:55.310758Z",
     "iopub.status.idle": "2022-04-21T11:14:55.620947Z",
     "shell.execute_reply": "2022-04-21T11:14:55.620049Z"
    },
    "papermill": {
     "duration": 0.352341,
     "end_time": "2022-04-21T11:14:55.623281",
     "exception": false,
     "start_time": "2022-04-21T11:14:55.270940",
     "status": "completed"
    },
    "tags": []
   },
   "outputs": [
    {
     "data": {
      "image/png": "[encoded data removed]",
      "text/plain": [
       "<Figure size 800x640 with 1 Axes>"
      ]
     },
     "metadata": {
      "needs_background": "light"
     },
     "output_type": "display_data"
    }
   ],
   "source": [
    "plt.figure(figsize=(10,8), dpi=80)\n",
    "\n",
    "plt.scatter(df[\"Height\"],df[\"Weight\"]) \n",
    "\n",
    "plt.title(\"Height vs Weight\", color=\"green\", size=30)\n",
    "\n",
    "plt.xlabel(\"Height\", c=\"blue\", size=25)\n",
    "\n",
    "plt.ylabel(\"Weight\", c=\"red\", size=25)\n",
    "\n",
    "plt.grid()\n",
    "\n",
    "plt.show()"
   ]
  },
  {
   "cell_type": "code",
   "execution_count": 9,
   "id": "401df228",
   "metadata": {
    "execution": {
     "iopub.execute_input": "2022-04-21T11:14:55.704054Z",
     "iopub.status.busy": "2022-04-21T11:14:55.703228Z",
     "iopub.status.idle": "2022-04-21T11:14:55.708407Z",
     "shell.execute_reply": "2022-04-21T11:14:55.707541Z"
    },
    "papermill": {
     "duration": 0.047588,
     "end_time": "2022-04-21T11:14:55.710250",
     "exception": false,
     "start_time": "2022-04-21T11:14:55.662662",
     "status": "completed"
    },
    "tags": []
   },
   "outputs": [],
   "source": [
    "x = df[\"Height\"].values.reshape(-1,1)\n",
    "y = df[\"Weight\"].values.reshape(-1,1)"
   ]
  },
  {
   "cell_type": "code",
   "execution_count": 10,
   "id": "8d9860f8",
   "metadata": {
    "execution": {
     "iopub.execute_input": "2022-04-21T11:14:55.790550Z",
     "iopub.status.busy": "2022-04-21T11:14:55.790047Z",
     "iopub.status.idle": "2022-04-21T11:14:55.795494Z",
     "shell.execute_reply": "2022-04-21T11:14:55.794377Z"
    },
    "papermill": {
     "duration": 0.047891,
     "end_time": "2022-04-21T11:14:55.797705",
     "exception": false,
     "start_time": "2022-04-21T11:14:55.749814",
     "status": "completed"
    },
    "tags": []
   },
   "outputs": [],
   "source": [
    "x_train, x_test, y_train, y_test = train_test_split(x,y, test_size = 0.2, random_state = 7)"
   ]
  },
  {
   "cell_type": "code",
   "execution_count": 11,
   "id": "3a648466",
   "metadata": {
    "execution": {
     "iopub.execute_input": "2022-04-21T11:14:55.877906Z",
     "iopub.status.busy": "2022-04-21T11:14:55.877605Z",
     "iopub.status.idle": "2022-04-21T11:14:55.899820Z",
     "shell.execute_reply": "2022-04-21T11:14:55.898950Z"
    },
    "papermill": {
     "duration": 0.064529,
     "end_time": "2022-04-21T11:14:55.901657",
     "exception": false,
     "start_time": "2022-04-21T11:14:55.837128",
     "status": "completed"
    },
    "tags": []
   },
   "outputs": [
    {
     "data": {
      "text/plain": [
       "LinearRegression()"
      ]
     },
     "execution_count": 11,
     "metadata": {},
     "output_type": "execute_result"
    }
   ],
   "source": [
    "regressor = LinearRegression()\n",
    "regressor.fit(x_train, y_train)"
   ]
  },
  {
   "cell_type": "code",
   "execution_count": 12,
   "id": "1589dc78",
   "metadata": {
    "execution": {
     "iopub.execute_input": "2022-04-21T11:14:55.983439Z",
     "iopub.status.busy": "2022-04-21T11:14:55.982880Z",
     "iopub.status.idle": "2022-04-21T11:14:55.987678Z",
     "shell.execute_reply": "2022-04-21T11:14:55.986763Z"
    },
    "papermill": {
     "duration": 0.048437,
     "end_time": "2022-04-21T11:14:55.989529",
     "exception": false,
     "start_time": "2022-04-21T11:14:55.941092",
     "status": "completed"
    },
    "tags": []
   },
   "outputs": [],
   "source": [
    "y_pred = regressor.predict(x_test)"
   ]
  },
  {
   "cell_type": "code",
   "execution_count": 13,
   "id": "280cf657",
   "metadata": {
    "execution": {
     "iopub.execute_input": "2022-04-21T11:14:56.071685Z",
     "iopub.status.busy": "2022-04-21T11:14:56.071370Z",
     "iopub.status.idle": "2022-04-21T11:14:56.077875Z",
     "shell.execute_reply": "2022-04-21T11:14:56.076482Z"
    },
    "papermill": {
     "duration": 0.050755,
     "end_time": "2022-04-21T11:14:56.079883",
     "exception": false,
     "start_time": "2022-04-21T11:14:56.029128",
     "status": "completed"
    },
    "tags": []
   },
   "outputs": [
    {
     "name": "stdout",
     "output_type": "stream",
     "text": [
      "[-39.51113063]\n",
      "[[61.63764899]]\n"
     ]
    }
   ],
   "source": [
    "#Intercept\n",
    "print(regressor.intercept_)\n",
    "\n",
    "#slope\n",
    "print(regressor.coef_)"
   ]
  },
  {
   "cell_type": "code",
   "execution_count": 14,
   "id": "35869cb6",
   "metadata": {
    "execution": {
     "iopub.execute_input": "2022-04-21T11:14:56.161408Z",
     "iopub.status.busy": "2022-04-21T11:14:56.161104Z",
     "iopub.status.idle": "2022-04-21T11:14:56.338656Z",
     "shell.execute_reply": "2022-04-21T11:14:56.337699Z"
    },
    "papermill": {
     "duration": 0.221243,
     "end_time": "2022-04-21T11:14:56.341086",
     "exception": false,
     "start_time": "2022-04-21T11:14:56.119843",
     "status": "completed"
    },
    "tags": []
   },
   "outputs": [
    {
     "data": {
      "image/png": "[encoded data removed]",
      "text/plain": [
       "<Figure size 432x288 with 1 Axes>"
      ]
     },
     "metadata": {
      "needs_background": "light"
     },
     "output_type": "display_data"
    }
   ],
   "source": [
    "plt.scatter(x_test, y_test, color = \"gray\")\n",
    "\n",
    "plt.plot(x_test, y_pred, color = \"red\")\n",
    "\n",
    "plt.show()"
   ]
  },
  {
   "cell_type": "code",
   "execution_count": 15,
   "id": "9f95d573",
   "metadata": {
    "execution": {
     "iopub.execute_input": "2022-04-21T11:14:56.424842Z",
     "iopub.status.busy": "2022-04-21T11:14:56.424291Z",
     "iopub.status.idle": "2022-04-21T11:14:56.432993Z",
     "shell.execute_reply": "2022-04-21T11:14:56.432186Z"
    },
    "papermill": {
     "duration": 0.052743,
     "end_time": "2022-04-21T11:14:56.434921",
     "exception": false,
     "start_time": "2022-04-21T11:14:56.382178",
     "status": "completed"
    },
    "tags": []
   },
   "outputs": [
    {
     "name": "stdout",
     "output_type": "stream",
     "text": [
      "Mean Absolute Error:  0.770409850568619\n",
      "Mean Squared Error:  0.6215757847560875\n",
      "Root Mean Squared Error:  0.7884007767348327\n",
      "R2 Score:  0.9379145785808406\n"
     ]
    }
   ],
   "source": [
    "print(\"Mean Absolute Error: \", metrics.mean_absolute_error(y_test, y_pred))\n",
    "print(\"Mean Squared Error: \", metrics.mean_squared_error(y_test, y_pred))\n",
    "print(\"Root Mean Squared Error: \", np.sqrt(metrics.mean_squared_error(y_test, y_pred)))\n",
    "print(\"R2 Score: \", metrics.r2_score(y_test, y_pred))"
   ]
  },
  {
   "cell_type": "code",
   "execution_count": 16,
   "id": "42ddaaf5",
   "metadata": {
    "execution": {
     "iopub.execute_input": "2022-04-21T11:14:56.518674Z",
     "iopub.status.busy": "2022-04-21T11:14:56.518226Z",
     "iopub.status.idle": "2022-04-21T11:14:56.695875Z",
     "shell.execute_reply": "2022-04-21T11:14:56.695304Z"
    },
    "papermill": {
     "duration": 0.221974,
     "end_time": "2022-04-21T11:14:56.697777",
     "exception": false,
     "start_time": "2022-04-21T11:14:56.475803",
     "status": "completed"
    },
    "tags": []
   },
   "outputs": [
    {
     "data": {
      "image/png": "[encoded data removed]",
      "text/plain": [
       "<Figure size 432x288 with 1 Axes>"
      ]
     },
     "metadata": {
      "needs_background": "light"
     },
     "output_type": "display_data"
    }
   ],
   "source": [
    "plt.scatter(x_test, y_test, color = \"gray\")\n",
    "\n",
    "plt.scatter(x_test, y_pred, color = \"red\")\n",
    "\n",
    "plt.show()"
   ]
  },
  {
   "cell_type": "code",
   "execution_count": 17,
   "id": "734e2846",
   "metadata": {
    "execution": {
     "iopub.execute_input": "2022-04-21T11:14:56.783328Z",
     "iopub.status.busy": "2022-04-21T11:14:56.782914Z",
     "iopub.status.idle": "2022-04-21T11:14:57.021418Z",
     "shell.execute_reply": "2022-04-21T11:14:57.020724Z"
    },
    "papermill": {
     "duration": 0.284145,
     "end_time": "2022-04-21T11:14:57.023294",
     "exception": false,
     "start_time": "2022-04-21T11:14:56.739149",
     "status": "completed"
    },
    "tags": []
   },
   "outputs": [
    {
     "data": {
      "image/png": "[encoded data removed]",
      "text/plain": [
       "<Figure size 800x640 with 1 Axes>"
      ]
     },
     "metadata": {
      "needs_background": "light"
     },
     "output_type": "display_data"
    }
   ],
   "source": [
    "plt.figure(figsize=(10,8), dpi = 80)\n",
    "\n",
    "plt.scatter(y_test, y_pred)\n",
    "\n",
    "plt.grid()"
   ]
  },
  {
   "cell_type": "code",
   "execution_count": 18,
   "id": "2dce6b42",
   "metadata": {
    "execution": {
     "iopub.execute_input": "2022-04-21T11:14:57.113037Z",
     "iopub.status.busy": "2022-04-21T11:14:57.112372Z",
     "iopub.status.idle": "2022-04-21T11:14:57.123451Z",
     "shell.execute_reply": "2022-04-21T11:14:57.122633Z"
    },
    "papermill": {
     "duration": 0.057645,
     "end_time": "2022-04-21T11:14:57.125357",
     "exception": false,
     "start_time": "2022-04-21T11:14:57.067712",
     "status": "completed"
    },
    "tags": []
   },
   "outputs": [
    {
     "data": {
      "text/html": [
       "<div>\n",
       "<style scoped>\n",
       "    .dataframe tbody tr th:only-of-type {\n",
       "        vertical-align: middle;\n",
       "    }\n",
       "\n",
       "    .dataframe tbody tr th {\n",
       "        vertical-align: top;\n",
       "    }\n",
       "\n",
       "    .dataframe thead th {\n",
       "        text-align: right;\n",
       "    }\n",
       "</style>\n",
       "<table border=\"1\" class=\"dataframe\">\n",
       "  <thead>\n",
       "    <tr style=\"text-align: right;\">\n",
       "      <th></th>\n",
       "      <th>Actual</th>\n",
       "      <th>predicted</th>\n",
       "    </tr>\n",
       "  </thead>\n",
       "  <tbody>\n",
       "    <tr>\n",
       "      <th>0</th>\n",
       "      <td>63.11</td>\n",
       "      <td>64.040120</td>\n",
       "    </tr>\n",
       "    <tr>\n",
       "      <th>1</th>\n",
       "      <td>58.57</td>\n",
       "      <td>59.109108</td>\n",
       "    </tr>\n",
       "    <tr>\n",
       "      <th>2</th>\n",
       "      <td>66.28</td>\n",
       "      <td>67.122002</td>\n",
       "    </tr>\n",
       "  </tbody>\n",
       "</table>\n",
       "</div>"
      ],
      "text/plain": [
       "   Actual  predicted\n",
       "0   63.11  64.040120\n",
       "1   58.57  59.109108\n",
       "2   66.28  67.122002"
      ]
     },
     "execution_count": 18,
     "metadata": {},
     "output_type": "execute_result"
    }
   ],
   "source": [
    "compare = pd.DataFrame({\"Actual\": y_test.flatten(), \"predicted\": y_pred.flatten()})\n",
    "compare"
   ]
  },
  {
   "cell_type": "code",
   "execution_count": 19,
   "id": "b2479c51",
   "metadata": {
    "execution": {
     "iopub.execute_input": "2022-04-21T11:14:57.214941Z",
     "iopub.status.busy": "2022-04-21T11:14:57.214521Z",
     "iopub.status.idle": "2022-04-21T11:14:57.434873Z",
     "shell.execute_reply": "2022-04-21T11:14:57.434190Z"
    },
    "papermill": {
     "duration": 0.268149,
     "end_time": "2022-04-21T11:14:57.436846",
     "exception": false,
     "start_time": "2022-04-21T11:14:57.168697",
     "status": "completed"
    },
    "tags": []
   },
   "outputs": [
    {
     "data": {
      "image/png": "[encoded data removed]",
      "text/plain": [
       "<Figure size 432x288 with 1 Axes>"
      ]
     },
     "metadata": {
      "needs_background": "light"
     },
     "output_type": "display_data"
    }
   ],
   "source": [
    "a = x_train\n",
    "b = y_train\n",
    "c = x_test\n",
    "d = y_pred\n",
    "plt.scatter(a,b)\n",
    "plt.scatter(c,d)\n",
    "plt.xlabel(\"Height\")\n",
    "plt.ylabel(\"Weight\")\n",
    "plt.grid()"
   ]
  },
  {
   "cell_type": "code",
   "execution_count": 20,
   "id": "f85c788e",
   "metadata": {
    "execution": {
     "iopub.execute_input": "2022-04-21T11:14:57.527280Z",
     "iopub.status.busy": "2022-04-21T11:14:57.526872Z",
     "iopub.status.idle": "2022-04-21T11:14:57.537139Z",
     "shell.execute_reply": "2022-04-21T11:14:57.536346Z"
    },
    "papermill": {
     "duration": 0.058125,
     "end_time": "2022-04-21T11:14:57.539189",
     "exception": false,
     "start_time": "2022-04-21T11:14:57.481064",
     "status": "completed"
    },
    "tags": []
   },
   "outputs": [
    {
     "data": {
      "text/html": [
       "<div>\n",
       "<style scoped>\n",
       "    .dataframe tbody tr th:only-of-type {\n",
       "        vertical-align: middle;\n",
       "    }\n",
       "\n",
       "    .dataframe tbody tr th {\n",
       "        vertical-align: top;\n",
       "    }\n",
       "\n",
       "    .dataframe thead th {\n",
       "        text-align: right;\n",
       "    }\n",
       "</style>\n",
       "<table border=\"1\" class=\"dataframe\">\n",
       "  <thead>\n",
       "    <tr style=\"text-align: right;\">\n",
       "      <th></th>\n",
       "      <th>Height</th>\n",
       "      <th>Weight</th>\n",
       "    </tr>\n",
       "  </thead>\n",
       "  <tbody>\n",
       "    <tr>\n",
       "      <th>0</th>\n",
       "      <td>1.38</td>\n",
       "      <td>6</td>\n",
       "    </tr>\n",
       "    <tr>\n",
       "      <th>1</th>\n",
       "      <td>1.66</td>\n",
       "      <td>8</td>\n",
       "    </tr>\n",
       "    <tr>\n",
       "      <th>2</th>\n",
       "      <td>1.95</td>\n",
       "      <td>10</td>\n",
       "    </tr>\n",
       "  </tbody>\n",
       "</table>\n",
       "</div>"
      ],
      "text/plain": [
       "   Height  Weight\n",
       "0    1.38       6\n",
       "1    1.66       8\n",
       "2    1.95      10"
      ]
     },
     "execution_count": 20,
     "metadata": {},
     "output_type": "execute_result"
    }
   ],
   "source": [
    "df2 = pd.DataFrame({\"Height\":[1.38, 1.66, 1.95], \"Weight\":[6,8,10]})\n",
    "df2"
   ]
  },
  {
   "cell_type": "code",
   "execution_count": 21,
   "id": "a6f7aaec",
   "metadata": {
    "execution": {
     "iopub.execute_input": "2022-04-21T11:14:57.631299Z",
     "iopub.status.busy": "2022-04-21T11:14:57.630888Z",
     "iopub.status.idle": "2022-04-21T11:14:57.642522Z",
     "shell.execute_reply": "2022-04-21T11:14:57.641695Z"
    },
    "papermill": {
     "duration": 0.060505,
     "end_time": "2022-04-21T11:14:57.644360",
     "exception": false,
     "start_time": "2022-04-21T11:14:57.583855",
     "status": "completed"
    },
    "tags": []
   },
   "outputs": [
    {
     "data": {
      "text/html": [
       "<div>\n",
       "<style scoped>\n",
       "    .dataframe tbody tr th:only-of-type {\n",
       "        vertical-align: middle;\n",
       "    }\n",
       "\n",
       "    .dataframe tbody tr th {\n",
       "        vertical-align: top;\n",
       "    }\n",
       "\n",
       "    .dataframe thead th {\n",
       "        text-align: right;\n",
       "    }\n",
       "</style>\n",
       "<table border=\"1\" class=\"dataframe\">\n",
       "  <thead>\n",
       "    <tr style=\"text-align: right;\">\n",
       "      <th></th>\n",
       "      <th>Height</th>\n",
       "      <th>Weight</th>\n",
       "    </tr>\n",
       "  </thead>\n",
       "  <tbody>\n",
       "    <tr>\n",
       "      <th>0</th>\n",
       "      <td>1.47</td>\n",
       "      <td>52.21</td>\n",
       "    </tr>\n",
       "    <tr>\n",
       "      <th>1</th>\n",
       "      <td>1.50</td>\n",
       "      <td>53.12</td>\n",
       "    </tr>\n",
       "    <tr>\n",
       "      <th>2</th>\n",
       "      <td>1.52</td>\n",
       "      <td>54.48</td>\n",
       "    </tr>\n",
       "    <tr>\n",
       "      <th>3</th>\n",
       "      <td>1.55</td>\n",
       "      <td>55.84</td>\n",
       "    </tr>\n",
       "    <tr>\n",
       "      <th>4</th>\n",
       "      <td>1.57</td>\n",
       "      <td>57.20</td>\n",
       "    </tr>\n",
       "    <tr>\n",
       "      <th>5</th>\n",
       "      <td>1.60</td>\n",
       "      <td>58.57</td>\n",
       "    </tr>\n",
       "    <tr>\n",
       "      <th>6</th>\n",
       "      <td>1.63</td>\n",
       "      <td>59.93</td>\n",
       "    </tr>\n",
       "    <tr>\n",
       "      <th>7</th>\n",
       "      <td>1.65</td>\n",
       "      <td>61.29</td>\n",
       "    </tr>\n",
       "    <tr>\n",
       "      <th>8</th>\n",
       "      <td>1.68</td>\n",
       "      <td>63.11</td>\n",
       "    </tr>\n",
       "    <tr>\n",
       "      <th>9</th>\n",
       "      <td>1.70</td>\n",
       "      <td>64.47</td>\n",
       "    </tr>\n",
       "    <tr>\n",
       "      <th>10</th>\n",
       "      <td>1.73</td>\n",
       "      <td>66.28</td>\n",
       "    </tr>\n",
       "    <tr>\n",
       "      <th>11</th>\n",
       "      <td>1.75</td>\n",
       "      <td>68.10</td>\n",
       "    </tr>\n",
       "    <tr>\n",
       "      <th>12</th>\n",
       "      <td>1.78</td>\n",
       "      <td>69.92</td>\n",
       "    </tr>\n",
       "    <tr>\n",
       "      <th>13</th>\n",
       "      <td>1.80</td>\n",
       "      <td>72.19</td>\n",
       "    </tr>\n",
       "    <tr>\n",
       "      <th>14</th>\n",
       "      <td>1.83</td>\n",
       "      <td>74.46</td>\n",
       "    </tr>\n",
       "  </tbody>\n",
       "</table>\n",
       "</div>"
      ],
      "text/plain": [
       "    Height  Weight\n",
       "0     1.47   52.21\n",
       "1     1.50   53.12\n",
       "2     1.52   54.48\n",
       "3     1.55   55.84\n",
       "4     1.57   57.20\n",
       "5     1.60   58.57\n",
       "6     1.63   59.93\n",
       "7     1.65   61.29\n",
       "8     1.68   63.11\n",
       "9     1.70   64.47\n",
       "10    1.73   66.28\n",
       "11    1.75   68.10\n",
       "12    1.78   69.92\n",
       "13    1.80   72.19\n",
       "14    1.83   74.46"
      ]
     },
     "execution_count": 21,
     "metadata": {},
     "output_type": "execute_result"
    }
   ],
   "source": [
    "df"
   ]
  },
  {
   "cell_type": "code",
   "execution_count": 22,
   "id": "2ae77da3",
   "metadata": {
    "execution": {
     "iopub.execute_input": "2022-04-21T11:14:57.736700Z",
     "iopub.status.busy": "2022-04-21T11:14:57.736266Z",
     "iopub.status.idle": "2022-04-21T11:14:57.749073Z",
     "shell.execute_reply": "2022-04-21T11:14:57.748296Z"
    },
    "papermill": {
     "duration": 0.061153,
     "end_time": "2022-04-21T11:14:57.750993",
     "exception": false,
     "start_time": "2022-04-21T11:14:57.689840",
     "status": "completed"
    },
    "tags": []
   },
   "outputs": [
    {
     "data": {
      "text/html": [
       "<div>\n",
       "<style scoped>\n",
       "    .dataframe tbody tr th:only-of-type {\n",
       "        vertical-align: middle;\n",
       "    }\n",
       "\n",
       "    .dataframe tbody tr th {\n",
       "        vertical-align: top;\n",
       "    }\n",
       "\n",
       "    .dataframe thead th {\n",
       "        text-align: right;\n",
       "    }\n",
       "</style>\n",
       "<table border=\"1\" class=\"dataframe\">\n",
       "  <thead>\n",
       "    <tr style=\"text-align: right;\">\n",
       "      <th></th>\n",
       "      <th>Height</th>\n",
       "      <th>Weight</th>\n",
       "    </tr>\n",
       "  </thead>\n",
       "  <tbody>\n",
       "    <tr>\n",
       "      <th>0</th>\n",
       "      <td>1.47</td>\n",
       "      <td>52.21</td>\n",
       "    </tr>\n",
       "    <tr>\n",
       "      <th>1</th>\n",
       "      <td>1.50</td>\n",
       "      <td>53.12</td>\n",
       "    </tr>\n",
       "    <tr>\n",
       "      <th>2</th>\n",
       "      <td>1.52</td>\n",
       "      <td>54.48</td>\n",
       "    </tr>\n",
       "    <tr>\n",
       "      <th>3</th>\n",
       "      <td>1.55</td>\n",
       "      <td>55.84</td>\n",
       "    </tr>\n",
       "    <tr>\n",
       "      <th>4</th>\n",
       "      <td>1.57</td>\n",
       "      <td>57.20</td>\n",
       "    </tr>\n",
       "    <tr>\n",
       "      <th>5</th>\n",
       "      <td>1.60</td>\n",
       "      <td>58.57</td>\n",
       "    </tr>\n",
       "    <tr>\n",
       "      <th>6</th>\n",
       "      <td>1.63</td>\n",
       "      <td>59.93</td>\n",
       "    </tr>\n",
       "    <tr>\n",
       "      <th>7</th>\n",
       "      <td>1.65</td>\n",
       "      <td>61.29</td>\n",
       "    </tr>\n",
       "    <tr>\n",
       "      <th>8</th>\n",
       "      <td>1.68</td>\n",
       "      <td>63.11</td>\n",
       "    </tr>\n",
       "    <tr>\n",
       "      <th>9</th>\n",
       "      <td>1.70</td>\n",
       "      <td>64.47</td>\n",
       "    </tr>\n",
       "    <tr>\n",
       "      <th>10</th>\n",
       "      <td>1.73</td>\n",
       "      <td>66.28</td>\n",
       "    </tr>\n",
       "    <tr>\n",
       "      <th>11</th>\n",
       "      <td>1.75</td>\n",
       "      <td>68.10</td>\n",
       "    </tr>\n",
       "    <tr>\n",
       "      <th>12</th>\n",
       "      <td>1.78</td>\n",
       "      <td>69.92</td>\n",
       "    </tr>\n",
       "    <tr>\n",
       "      <th>13</th>\n",
       "      <td>1.80</td>\n",
       "      <td>72.19</td>\n",
       "    </tr>\n",
       "    <tr>\n",
       "      <th>14</th>\n",
       "      <td>1.83</td>\n",
       "      <td>74.46</td>\n",
       "    </tr>\n",
       "    <tr>\n",
       "      <th>0</th>\n",
       "      <td>1.38</td>\n",
       "      <td>6.00</td>\n",
       "    </tr>\n",
       "    <tr>\n",
       "      <th>1</th>\n",
       "      <td>1.66</td>\n",
       "      <td>8.00</td>\n",
       "    </tr>\n",
       "    <tr>\n",
       "      <th>2</th>\n",
       "      <td>1.95</td>\n",
       "      <td>10.00</td>\n",
       "    </tr>\n",
       "  </tbody>\n",
       "</table>\n",
       "</div>"
      ],
      "text/plain": [
       "    Height  Weight\n",
       "0     1.47   52.21\n",
       "1     1.50   53.12\n",
       "2     1.52   54.48\n",
       "3     1.55   55.84\n",
       "4     1.57   57.20\n",
       "5     1.60   58.57\n",
       "6     1.63   59.93\n",
       "7     1.65   61.29\n",
       "8     1.68   63.11\n",
       "9     1.70   64.47\n",
       "10    1.73   66.28\n",
       "11    1.75   68.10\n",
       "12    1.78   69.92\n",
       "13    1.80   72.19\n",
       "14    1.83   74.46\n",
       "0     1.38    6.00\n",
       "1     1.66    8.00\n",
       "2     1.95   10.00"
      ]
     },
     "execution_count": 22,
     "metadata": {},
     "output_type": "execute_result"
    }
   ],
   "source": [
    "df3 = df.append(df2)\n",
    "df3"
   ]
  },
  {
   "cell_type": "code",
   "execution_count": 23,
   "id": "f6a6fbbf",
   "metadata": {
    "execution": {
     "iopub.execute_input": "2022-04-21T11:14:57.844385Z",
     "iopub.status.busy": "2022-04-21T11:14:57.843972Z",
     "iopub.status.idle": "2022-04-21T11:14:57.848638Z",
     "shell.execute_reply": "2022-04-21T11:14:57.847905Z"
    },
    "papermill": {
     "duration": 0.054192,
     "end_time": "2022-04-21T11:14:57.850829",
     "exception": false,
     "start_time": "2022-04-21T11:14:57.796637",
     "status": "completed"
    },
    "tags": []
   },
   "outputs": [],
   "source": [
    "train = df3.iloc[:15]\n",
    "test = df3.iloc[15:]"
   ]
  },
  {
   "cell_type": "code",
   "execution_count": 24,
   "id": "5beb73a3",
   "metadata": {
    "execution": {
     "iopub.execute_input": "2022-04-21T11:14:57.946910Z",
     "iopub.status.busy": "2022-04-21T11:14:57.946483Z",
     "iopub.status.idle": "2022-04-21T11:14:57.958514Z",
     "shell.execute_reply": "2022-04-21T11:14:57.957697Z"
    },
    "papermill": {
     "duration": 0.062828,
     "end_time": "2022-04-21T11:14:57.961024",
     "exception": false,
     "start_time": "2022-04-21T11:14:57.898196",
     "status": "completed"
    },
    "tags": []
   },
   "outputs": [
    {
     "data": {
      "text/html": [
       "<div>\n",
       "<style scoped>\n",
       "    .dataframe tbody tr th:only-of-type {\n",
       "        vertical-align: middle;\n",
       "    }\n",
       "\n",
       "    .dataframe tbody tr th {\n",
       "        vertical-align: top;\n",
       "    }\n",
       "\n",
       "    .dataframe thead th {\n",
       "        text-align: right;\n",
       "    }\n",
       "</style>\n",
       "<table border=\"1\" class=\"dataframe\">\n",
       "  <thead>\n",
       "    <tr style=\"text-align: right;\">\n",
       "      <th></th>\n",
       "      <th>Height</th>\n",
       "      <th>Weight</th>\n",
       "    </tr>\n",
       "  </thead>\n",
       "  <tbody>\n",
       "    <tr>\n",
       "      <th>0</th>\n",
       "      <td>1.47</td>\n",
       "      <td>52.21</td>\n",
       "    </tr>\n",
       "    <tr>\n",
       "      <th>1</th>\n",
       "      <td>1.50</td>\n",
       "      <td>53.12</td>\n",
       "    </tr>\n",
       "    <tr>\n",
       "      <th>2</th>\n",
       "      <td>1.52</td>\n",
       "      <td>54.48</td>\n",
       "    </tr>\n",
       "    <tr>\n",
       "      <th>3</th>\n",
       "      <td>1.55</td>\n",
       "      <td>55.84</td>\n",
       "    </tr>\n",
       "    <tr>\n",
       "      <th>4</th>\n",
       "      <td>1.57</td>\n",
       "      <td>57.20</td>\n",
       "    </tr>\n",
       "    <tr>\n",
       "      <th>5</th>\n",
       "      <td>1.60</td>\n",
       "      <td>58.57</td>\n",
       "    </tr>\n",
       "    <tr>\n",
       "      <th>6</th>\n",
       "      <td>1.63</td>\n",
       "      <td>59.93</td>\n",
       "    </tr>\n",
       "    <tr>\n",
       "      <th>7</th>\n",
       "      <td>1.65</td>\n",
       "      <td>61.29</td>\n",
       "    </tr>\n",
       "    <tr>\n",
       "      <th>8</th>\n",
       "      <td>1.68</td>\n",
       "      <td>63.11</td>\n",
       "    </tr>\n",
       "    <tr>\n",
       "      <th>9</th>\n",
       "      <td>1.70</td>\n",
       "      <td>64.47</td>\n",
       "    </tr>\n",
       "    <tr>\n",
       "      <th>10</th>\n",
       "      <td>1.73</td>\n",
       "      <td>66.28</td>\n",
       "    </tr>\n",
       "    <tr>\n",
       "      <th>11</th>\n",
       "      <td>1.75</td>\n",
       "      <td>68.10</td>\n",
       "    </tr>\n",
       "    <tr>\n",
       "      <th>12</th>\n",
       "      <td>1.78</td>\n",
       "      <td>69.92</td>\n",
       "    </tr>\n",
       "    <tr>\n",
       "      <th>13</th>\n",
       "      <td>1.80</td>\n",
       "      <td>72.19</td>\n",
       "    </tr>\n",
       "    <tr>\n",
       "      <th>14</th>\n",
       "      <td>1.83</td>\n",
       "      <td>74.46</td>\n",
       "    </tr>\n",
       "  </tbody>\n",
       "</table>\n",
       "</div>"
      ],
      "text/plain": [
       "    Height  Weight\n",
       "0     1.47   52.21\n",
       "1     1.50   53.12\n",
       "2     1.52   54.48\n",
       "3     1.55   55.84\n",
       "4     1.57   57.20\n",
       "5     1.60   58.57\n",
       "6     1.63   59.93\n",
       "7     1.65   61.29\n",
       "8     1.68   63.11\n",
       "9     1.70   64.47\n",
       "10    1.73   66.28\n",
       "11    1.75   68.10\n",
       "12    1.78   69.92\n",
       "13    1.80   72.19\n",
       "14    1.83   74.46"
      ]
     },
     "execution_count": 24,
     "metadata": {},
     "output_type": "execute_result"
    }
   ],
   "source": [
    "train"
   ]
  },
  {
   "cell_type": "code",
   "execution_count": 25,
   "id": "a2484dbf",
   "metadata": {
    "execution": {
     "iopub.execute_input": "2022-04-21T11:14:58.067553Z",
     "iopub.status.busy": "2022-04-21T11:14:58.066979Z",
     "iopub.status.idle": "2022-04-21T11:14:58.076331Z",
     "shell.execute_reply": "2022-04-21T11:14:58.075698Z"
    },
    "papermill": {
     "duration": 0.060524,
     "end_time": "2022-04-21T11:14:58.078246",
     "exception": false,
     "start_time": "2022-04-21T11:14:58.017722",
     "status": "completed"
    },
    "tags": []
   },
   "outputs": [
    {
     "data": {
      "text/html": [
       "<div>\n",
       "<style scoped>\n",
       "    .dataframe tbody tr th:only-of-type {\n",
       "        vertical-align: middle;\n",
       "    }\n",
       "\n",
       "    .dataframe tbody tr th {\n",
       "        vertical-align: top;\n",
       "    }\n",
       "\n",
       "    .dataframe thead th {\n",
       "        text-align: right;\n",
       "    }\n",
       "</style>\n",
       "<table border=\"1\" class=\"dataframe\">\n",
       "  <thead>\n",
       "    <tr style=\"text-align: right;\">\n",
       "      <th></th>\n",
       "      <th>Height</th>\n",
       "      <th>Weight</th>\n",
       "    </tr>\n",
       "  </thead>\n",
       "  <tbody>\n",
       "    <tr>\n",
       "      <th>0</th>\n",
       "      <td>1.38</td>\n",
       "      <td>6.0</td>\n",
       "    </tr>\n",
       "    <tr>\n",
       "      <th>1</th>\n",
       "      <td>1.66</td>\n",
       "      <td>8.0</td>\n",
       "    </tr>\n",
       "    <tr>\n",
       "      <th>2</th>\n",
       "      <td>1.95</td>\n",
       "      <td>10.0</td>\n",
       "    </tr>\n",
       "  </tbody>\n",
       "</table>\n",
       "</div>"
      ],
      "text/plain": [
       "   Height  Weight\n",
       "0    1.38     6.0\n",
       "1    1.66     8.0\n",
       "2    1.95    10.0"
      ]
     },
     "execution_count": 25,
     "metadata": {},
     "output_type": "execute_result"
    }
   ],
   "source": [
    "test"
   ]
  },
  {
   "cell_type": "code",
   "execution_count": 26,
   "id": "2e910508",
   "metadata": {
    "execution": {
     "iopub.execute_input": "2022-04-21T11:14:58.174431Z",
     "iopub.status.busy": "2022-04-21T11:14:58.173433Z",
     "iopub.status.idle": "2022-04-21T11:14:58.178688Z",
     "shell.execute_reply": "2022-04-21T11:14:58.178081Z"
    },
    "papermill": {
     "duration": 0.055391,
     "end_time": "2022-04-21T11:14:58.180600",
     "exception": false,
     "start_time": "2022-04-21T11:14:58.125209",
     "status": "completed"
    },
    "tags": []
   },
   "outputs": [],
   "source": [
    "x_train = df3[\"Height\"][:15].values.reshape(-1,1)\n",
    "y_train = df3[\"Weight\"][:15].values.reshape(-1,1)"
   ]
  },
  {
   "cell_type": "code",
   "execution_count": 27,
   "id": "233cfc91",
   "metadata": {
    "execution": {
     "iopub.execute_input": "2022-04-21T11:14:58.277864Z",
     "iopub.status.busy": "2022-04-21T11:14:58.276950Z",
     "iopub.status.idle": "2022-04-21T11:14:58.281661Z",
     "shell.execute_reply": "2022-04-21T11:14:58.280792Z"
    },
    "papermill": {
     "duration": 0.055199,
     "end_time": "2022-04-21T11:14:58.283807",
     "exception": false,
     "start_time": "2022-04-21T11:14:58.228608",
     "status": "completed"
    },
    "tags": []
   },
   "outputs": [],
   "source": [
    "x_test =  df3[\"Height\"][15:].values.reshape(-1,1)"
   ]
  },
  {
   "cell_type": "code",
   "execution_count": 28,
   "id": "da80bb91",
   "metadata": {
    "execution": {
     "iopub.execute_input": "2022-04-21T11:14:58.380737Z",
     "iopub.status.busy": "2022-04-21T11:14:58.380205Z",
     "iopub.status.idle": "2022-04-21T11:14:58.383775Z",
     "shell.execute_reply": "2022-04-21T11:14:58.383018Z"
    },
    "papermill": {
     "duration": 0.053742,
     "end_time": "2022-04-21T11:14:58.385642",
     "exception": false,
     "start_time": "2022-04-21T11:14:58.331900",
     "status": "completed"
    },
    "tags": []
   },
   "outputs": [],
   "source": [
    "regressor = LinearRegression()"
   ]
  },
  {
   "cell_type": "code",
   "execution_count": 29,
   "id": "99bf43a8",
   "metadata": {
    "execution": {
     "iopub.execute_input": "2022-04-21T11:14:58.481571Z",
     "iopub.status.busy": "2022-04-21T11:14:58.481001Z",
     "iopub.status.idle": "2022-04-21T11:14:58.487652Z",
     "shell.execute_reply": "2022-04-21T11:14:58.486900Z"
    },
    "papermill": {
     "duration": 0.057511,
     "end_time": "2022-04-21T11:14:58.489895",
     "exception": false,
     "start_time": "2022-04-21T11:14:58.432384",
     "status": "completed"
    },
    "tags": []
   },
   "outputs": [
    {
     "data": {
      "text/plain": [
       "LinearRegression()"
      ]
     },
     "execution_count": 29,
     "metadata": {},
     "output_type": "execute_result"
    }
   ],
   "source": [
    "regressor.fit(x_train, y_train)"
   ]
  },
  {
   "cell_type": "code",
   "execution_count": 30,
   "id": "d67b0960",
   "metadata": {
    "execution": {
     "iopub.execute_input": "2022-04-21T11:14:58.587251Z",
     "iopub.status.busy": "2022-04-21T11:14:58.586953Z",
     "iopub.status.idle": "2022-04-21T11:14:58.591196Z",
     "shell.execute_reply": "2022-04-21T11:14:58.590205Z"
    },
    "papermill": {
     "duration": 0.055168,
     "end_time": "2022-04-21T11:14:58.593207",
     "exception": false,
     "start_time": "2022-04-21T11:14:58.538039",
     "status": "completed"
    },
    "tags": []
   },
   "outputs": [],
   "source": [
    "y_pred = regressor.predict(x_test)"
   ]
  },
  {
   "cell_type": "code",
   "execution_count": 31,
   "id": "71ffae35",
   "metadata": {
    "execution": {
     "iopub.execute_input": "2022-04-21T11:14:58.689888Z",
     "iopub.status.busy": "2022-04-21T11:14:58.689610Z",
     "iopub.status.idle": "2022-04-21T11:14:58.694738Z",
     "shell.execute_reply": "2022-04-21T11:14:58.694099Z"
    },
    "papermill": {
     "duration": 0.055541,
     "end_time": "2022-04-21T11:14:58.696490",
     "exception": false,
     "start_time": "2022-04-21T11:14:58.640949",
     "status": "completed"
    },
    "tags": []
   },
   "outputs": [
    {
     "data": {
      "text/plain": [
       "array([[45.49366151],\n",
       "       [62.64987374],\n",
       "       [80.41880784]])"
      ]
     },
     "execution_count": 31,
     "metadata": {},
     "output_type": "execute_result"
    }
   ],
   "source": [
    "y_pred"
   ]
  },
  {
   "cell_type": "code",
   "execution_count": 32,
   "id": "e9002d46",
   "metadata": {
    "execution": {
     "iopub.execute_input": "2022-04-21T11:14:58.793346Z",
     "iopub.status.busy": "2022-04-21T11:14:58.792899Z",
     "iopub.status.idle": "2022-04-21T11:14:59.005285Z",
     "shell.execute_reply": "2022-04-21T11:14:59.004464Z"
    },
    "papermill": {
     "duration": 0.263115,
     "end_time": "2022-04-21T11:14:59.007230",
     "exception": false,
     "start_time": "2022-04-21T11:14:58.744115",
     "status": "completed"
    },
    "tags": []
   },
   "outputs": [
    {
     "data": {
      "image/png": "[encoded data removed]",
      "text/plain": [
       "<Figure size 432x288 with 1 Axes>"
      ]
     },
     "metadata": {
      "needs_background": "light"
     },
     "output_type": "display_data"
    }
   ],
   "source": [
    "plt.scatter(x_test, y_pred)\n",
    "\n",
    "plt.grid()"
   ]
  },
  {
   "cell_type": "code",
   "execution_count": 33,
   "id": "c99ace9d",
   "metadata": {
    "execution": {
     "iopub.execute_input": "2022-04-21T11:14:59.106576Z",
     "iopub.status.busy": "2022-04-21T11:14:59.106155Z",
     "iopub.status.idle": "2022-04-21T11:14:59.340543Z",
     "shell.execute_reply": "2022-04-21T11:14:59.339851Z"
    },
    "papermill": {
     "duration": 0.286537,
     "end_time": "2022-04-21T11:14:59.342549",
     "exception": false,
     "start_time": "2022-04-21T11:14:59.056012",
     "status": "completed"
    },
    "tags": []
   },
   "outputs": [
    {
     "data": {
      "image/png": "[encoded data removed]",
      "text/plain": [
       "<Figure size 432x288 with 1 Axes>"
      ]
     },
     "metadata": {
      "needs_background": "light"
     },
     "output_type": "display_data"
    }
   ],
   "source": [
    "a = x_train\n",
    "b = y_train\n",
    "c = x_test\n",
    "d = y_pred\n",
    "plt.scatter(a,b)\n",
    "plt.scatter(c,d)\n",
    "plt.xlabel(\"Hours\")\n",
    "plt.ylabel(\"Scores\")\n",
    "plt.grid()"
   ]
  },
  {
   "cell_type": "code",
   "execution_count": 34,
   "id": "319a9ffc",
   "metadata": {
    "execution": {
     "iopub.execute_input": "2022-04-21T11:14:59.444236Z",
     "iopub.status.busy": "2022-04-21T11:14:59.443752Z",
     "iopub.status.idle": "2022-04-21T11:14:59.449410Z",
     "shell.execute_reply": "2022-04-21T11:14:59.448319Z"
    },
    "papermill": {
     "duration": 0.05824,
     "end_time": "2022-04-21T11:14:59.451253",
     "exception": false,
     "start_time": "2022-04-21T11:14:59.393013",
     "status": "completed"
    },
    "tags": []
   },
   "outputs": [
    {
     "data": {
      "text/plain": [
       "array([[1.38],\n",
       "       [1.66],\n",
       "       [1.95]])"
      ]
     },
     "execution_count": 34,
     "metadata": {},
     "output_type": "execute_result"
    }
   ],
   "source": [
    "x_test"
   ]
  },
  {
   "cell_type": "code",
   "execution_count": 35,
   "id": "fec2fe4b",
   "metadata": {
    "execution": {
     "iopub.execute_input": "2022-04-21T11:14:59.552700Z",
     "iopub.status.busy": "2022-04-21T11:14:59.552364Z",
     "iopub.status.idle": "2022-04-21T11:14:59.557861Z",
     "shell.execute_reply": "2022-04-21T11:14:59.556978Z"
    },
    "papermill": {
     "duration": 0.059286,
     "end_time": "2022-04-21T11:14:59.560107",
     "exception": false,
     "start_time": "2022-04-21T11:14:59.500821",
     "status": "completed"
    },
    "tags": []
   },
   "outputs": [
    {
     "data": {
      "text/plain": [
       "array([[45.49366151],\n",
       "       [62.64987374],\n",
       "       [80.41880784]])"
      ]
     },
     "execution_count": 35,
     "metadata": {},
     "output_type": "execute_result"
    }
   ],
   "source": [
    "y_pred"
   ]
  },
  {
   "cell_type": "code",
   "execution_count": null,
   "id": "35fcd7a4",
   "metadata": {
    "papermill": {
     "duration": 0.049631,
     "end_time": "2022-04-21T11:14:59.667630",
     "exception": false,
     "start_time": "2022-04-21T11:14:59.617999",
     "status": "completed"
    },
    "tags": []
   },
   "outputs": [],
   "source": []
  }
 ],
 "metadata": {
  "kernelspec": {
   "display_name": "Python 3",
   "language": "python",
   "name": "python3"
  },
  "language_info": {
   "codemirror_mode": {
    "name": "ipython",
    "version": 3
   },
   "file_extension": ".py",
   "mimetype": "text/x-python",
   "name": "python",
   "nbconvert_exporter": "python",
   "pygments_lexer": "ipython3",
   "version": "3.7.12"
  },
  "papermill": {
   "default_parameters": {},
   "duration": 17.125886,
   "end_time": "2022-04-21T11:15:00.439313",
   "environment_variables": {},
   "exception": null,
   "input_path": "__notebook__.ipynb",
   "output_path": "__notebook__.ipynb",
   "parameters": {},
   "start_time": "2022-04-21T11:14:43.313427",
   "version": "2.3.4"
  }
 },
 "nbformat": 4,
 "nbformat_minor": 5
}
